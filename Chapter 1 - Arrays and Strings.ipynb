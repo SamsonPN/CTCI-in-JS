{
 "cells": [
  {
   "cell_type": "markdown",
   "metadata": {},
   "source": [
    "# Chapter 1: Arrays and Strings\n",
    "* Implement own version of StringBuilder, HashTable, and ArrayList\n",
    "* StringBuilder: want to concatenate a list of strings where all the strings are the same length (x) and there are n strings"
   ]
  },
  {
   "cell_type": "markdown",
   "metadata": {},
   "source": [
    "## 1.1 IsUnique\n",
    "* Implement an algorithm to determine if a string has all unique characters. What if you cannot use additional data structures?\n",
    "* Hints:\n",
    "    * 44: Try a hash table\n",
    "    * 117: Could a bit vector be useful?\n",
    "    * 132: Can you solve it in O(N log N) time? What might the solution like that look like?\n",
    "* __NEED TO LEARN BIT OPERATIONS AND HOW TO USE THEM IN JAVASCRIPT AND TO LEARN DIFFERENCE BETWEEN ASCII AND UNICODE__"
   ]
  },
  {
   "cell_type": "code",
   "execution_count": 4,
   "metadata": {},
   "outputs": [
    {
     "data": {
      "text/plain": [
       "false"
      ]
     },
     "execution_count": 4,
     "metadata": {},
     "output_type": "execute_result"
    }
   ],
   "source": [
    "// My implementation with data structures:\n",
    "// WRONG because it just returns the same char that was inserted. it doesn't actually count how many times\n",
    "// the char is in it!\n",
    "function isUnique(string){\n",
    "    let isUnique = true;\n",
    "    let object = {};\n",
    "    for(let i = 0; i < string.length; i++) {\n",
    "        let char = string[i];\n",
    "        object[char] = char;\n",
    "    }\n",
    "    for(let i = 0; i < string.length; i++){\n",
    "        let char = string[i];\n",
    "        if(object[char]){\n",
    "            isUnique = false;\n",
    "        }\n",
    "    }\n",
    "    return isUnique;\n",
    "}\n",
    "\n",
    "isUnique('hi')"
   ]
  },
  {
   "cell_type": "markdown",
   "metadata": {},
   "source": [
    "### Book Solutions:\n",
    "* __should ask whether string is ASCII or Unicode!!!__ Assume ASCII 128 character set\n",
    "* w/ additional data structure:\n",
    "    1. create an array of booleans of size 128 (for each character in ASCII)\n",
    "    2. if the size of the string > 128, then it is NOT unique because you cannot have a set of unique chars if\n",
    "    3. then traverse through the string and get its value\n",
    "    4. if array[char] = true, then isUnique would return false because then it means that the character has been encountered already\n",
    "* w/o additional data structures:\n",
    "    1. using a bit vector, can reduce space usage"
   ]
  },
  {
   "cell_type": "code",
   "execution_count": 178,
   "metadata": {},
   "outputs": [
    {
     "name": "stdout",
     "output_type": "stream",
     "text": [
      "true\n",
      "false\n"
     ]
    }
   ],
   "source": [
    "// w/ additional data structure\n",
    "/*\n",
    "    * time complexity: O(n)\n",
    "    * space complexity: O(1)\n",
    "*/\n",
    "function isUnique(string){\n",
    "    let boolArr = new Array(128);\n",
    "    for(let i = 0; i < string.length; i++) {\n",
    "        let val = string[i];\n",
    "        if(boolArr[val]) {\n",
    "            return false;\n",
    "        }\n",
    "        boolArr[val] = true;\n",
    "    }\n",
    "    return true;\n",
    "}\n",
    "console.log(isUnique('hi'))\n",
    "console.log(isUnique('hello world'))"
   ]
  },
  {
   "cell_type": "code",
   "execution_count": 36,
   "metadata": {},
   "outputs": [
    {
     "name": "stdout",
     "output_type": "stream",
     "text": [
      "true\n",
      "false\n"
     ]
    }
   ],
   "source": [
    "// w/o additional data structure\n",
    "\n",
    "function isUnique(str, indexOffset = 'a'.charCodeAt()){\n",
    "    let counterTable = Number();\n",
    "    for(let index of [...str].map(c => c.charCodeAt() - indexOffset)) {\n",
    "        const mask = 1 << index; //bitwise less than\n",
    "        if(counterTable & mask) {\n",
    "            return false;\n",
    "        }\n",
    "        counterTable |= mask; //bitwise or \n",
    "    }\n",
    "    return true;\n",
    "}\n",
    "console.log(isUnique('hi'))\n",
    "console.log(isUnique('hello world'))"
   ]
  },
  {
   "cell_type": "markdown",
   "metadata": {},
   "source": [
    "## 1.2 Check Permutation\n",
    "* Given two strings, write a method to decide if one is a permutation of the other.\n",
    "* Hints: 1, 84, 122, 131\n",
    "    * 1: Describe what it means for two strings to be permutations of each other. Now, look at that definition you provided. Can you check the strings against that definition?\n",
    "    * 84: There is one solution that is O(N log N) time. Another solution uses some space, but is O(n) time\n",
    "    * 122: Could a hash table be useful?\n",
    "    * 131: Two strings that are permutations should have the same characters but in different orders. Can you make the orders the same?"
   ]
  },
  {
   "cell_type": "code",
   "execution_count": 57,
   "metadata": {},
   "outputs": [
    {
     "name": "stdout",
     "output_type": "stream",
     "text": [
      "true\n",
      "true\n"
     ]
    }
   ],
   "source": [
    "// my implementation\n",
    "// the two strings must be the same size, so this implementation is O(n) time and O(n) space b/c of hash table\n",
    "// my solution fails because it does not account for duplicate letters and white space!\n",
    "function checkPermutation(str1, str2){\n",
    "    if(str1.length !== str2.length){ return false; }\n",
    "    let obj = {};\n",
    "    for (let i = 0; i < str1.length; i++) {\n",
    "        let elem = str1[i];\n",
    "        obj[elem] = elem;\n",
    "    }\n",
    "    for (let i = 0; i < str2.length; i++) {\n",
    "        let elem = str2[i];\n",
    "        if(obj[elem] === undefined) {\n",
    "            return false;\n",
    "        }\n",
    "    }\n",
    "    return true;\n",
    "}\n",
    "\n",
    "console.log(checkPermutation('abc', 'acb'));\n",
    "console.log(checkPermutation('abbc', 'caab')); // should be false but didn't account for duplicates that's why it returned true"
   ]
  },
  {
   "cell_type": "markdown",
   "metadata": {},
   "source": [
    "### Book Solutions: \n",
    "* __SHOULD ALWAYS CONFIRM WITH INTERVIEWER WHAT THE CHARACTER SET IS!!!__ SO IS IT ASCII OR UNICODE?\n",
    "* in this algorithm, we assume that it is ASCII, the comparison is case sensitive, and whitespace is significant. (almost forgot about white space)\n",
    "* also assume that strings of different lengths CANNOT be permutations of each other.\n",
    "* solution 1: __Preferred solution because it is much cleaner and easier to understand than second solution__\n",
    "    1. check if strings are same length. if they are continue, if not return false\n",
    "    2. since permutations are just different orderings of same set, just sort the chars and then compare them\n",
    "    3. this is an O(N log N) solution for sorting the strings and is O(n) space for creating an array of string characters, then sorting it and putting it back together\n",
    "* solution 2:\n",
    "    1. iterate through the code\n",
    "    2. count how many times each character appears\n",
    "    3. compare the two arrays"
   ]
  },
  {
   "cell_type": "code",
   "execution_count": 60,
   "metadata": {},
   "outputs": [
    {
     "name": "stdout",
     "output_type": "stream",
     "text": [
      "true\n",
      "false\n"
     ]
    }
   ],
   "source": [
    "// implement solution 1\n",
    "// O(N log N) time complexity because you are sorting \n",
    "function checkPermutation(str1, str2) {\n",
    "    if(str1.length !== str2.length) { return false; }\n",
    "    sortedStr1 = str1.split('').sort().join('');\n",
    "    sortedStr2 = str2.split('').sort().join('');\n",
    "    return sortedStr1 === sortedStr2;\n",
    "}\n",
    "\n",
    "console.log(checkPermutation('aabbcc', 'bbaacc'));\n",
    "console.log(checkPermutation('aabb', 'bba'));"
   ]
  },
  {
   "cell_type": "markdown",
   "metadata": {},
   "source": [
    "## 1.3 URLify\n",
    "* Write a method to replace all spaces in a string with '%20'. You may assume that the string has sufficient space at the end to hold the additional characters, and that you are given the true length of the string.\n",
    "* Example: \n",
    "    - Input: \"Mr John Smith    \", 13\n",
    "    - Output: \"Mr%20John%20Smith\"\n",
    "* Hints:\n",
    "    - 53: It's often easiest to modify strings by going from the end of the string to the beginning.\n",
    "    - 118: You might find you need to know the number of spaces. Can you just count them?"
   ]
  },
  {
   "cell_type": "code",
   "execution_count": 83,
   "metadata": {},
   "outputs": [
    {
     "name": "stdout",
     "output_type": "stream",
     "text": [
      "Mr%20John%20Smith\n"
     ]
    }
   ],
   "source": [
    "// my implementation\n",
    "function urlify(url, length) {\n",
    "    let trueUrl = url.slice(0, length);\n",
    "    return trueUrl\n",
    "            .split('')\n",
    "            .map(char => {\n",
    "                if( char === ' ') {\n",
    "                    return \"%20\"\n",
    "                }\n",
    "                return char\n",
    "            })\n",
    "            .join('');\n",
    "}\n",
    "\n",
    "console.log(urlify(\"Mr John Smith   \", 13))"
   ]
  },
  {
   "cell_type": "markdown",
   "metadata": {},
   "source": [
    "### Book Solutions:\n",
    "* __for string manipulation problems, it is common to start from the end and work backwards b/c there is an extra buffer at the end to allow us to make changes without worrying about overwriting anything__\n",
    "* solution:\n",
    "    1. scan through string once and find the number of spaces it has\n",
    "    2. triple this number to compute how many extra chars in final string\n",
    "    3. go in reverse order the second time around and replace any \" \" char with \"%20\"\n",
    "    4. if there is no space, copy original character"
   ]
  },
  {
   "cell_type": "code",
   "execution_count": 74,
   "metadata": {},
   "outputs": [
    {
     "name": "stdout",
     "output_type": "stream",
     "text": [
      "Mr%20John%20Smith\n"
     ]
    }
   ],
   "source": [
    "function urlify(url, length) {\n",
    "    url = url.split('');\n",
    "    let spaces = 0;\n",
    "    let index;\n",
    "    for(let i = 0; i < length; i++) {\n",
    "        if(url[i] == ' ') {\n",
    "            spaces++;\n",
    "        }\n",
    "    }\n",
    "    index = length + spaces * 2;\n",
    "    for(let i = length - 1; i >= 0; i--) {\n",
    "        if(url[i] === ' ') {\n",
    "            url[index - 1] = '0';\n",
    "            url[index - 2] = '2';\n",
    "            url[index - 3] = '%';\n",
    "            index -= 3;\n",
    "        }\n",
    "        else {\n",
    "            url[index - 1] = url[i];\n",
    "            index--;\n",
    "        }\n",
    "    }\n",
    "    return url.join('');\n",
    "}\n",
    "\n",
    "console.log(urlify(\"Mr John Smith   \", 13));"
   ]
  },
  {
   "cell_type": "markdown",
   "metadata": {},
   "source": [
    "## 1.4 Palindrome Permutation\n",
    "* Given a string, write a function to check if it is a permutation of a palindrome. A palindrome is a word or phrase that is the same forwards and backwards. A permutation is a rearrangement of letters. The palindrome does not need to be limited to ust dictionayr words.\n",
    "* Example:\n",
    "    - Input: Tact Coa\n",
    "    - Output: True (permutations: \"taco cat\", \"atco cta\", etc)\n",
    "* Hints:\n",
    "    - 106: You do not have to -- and should not -- generate all permutations. This would be very inefficient.\n",
    "    - 121: What characteristics would a string that is a permutation of a palindrome have?\n",
    "    - 134: Have you tried a hash table? You should be able to get this down to O(n) time.\n",
    "    - 136: Can you reduce the space usage by using a bit vector?"
   ]
  },
  {
   "cell_type": "code",
   "execution_count": 111,
   "metadata": {},
   "outputs": [
    {
     "name": "stdout",
     "output_type": "stream",
     "text": [
      "true\n",
      "false\n",
      "true\n"
     ]
    }
   ],
   "source": [
    "// my implementation: \n",
    "function palPerm(string) {\n",
    "    let obj = {};\n",
    "    for(let i = 0; i < string.length; i++) {\n",
    "        let char = string[i]\n",
    "        if(char !== ' ') {\n",
    "            char = char.toLowerCase();\n",
    "            if(obj[char] === undefined) {\n",
    "                obj[char] = char;\n",
    "            }\n",
    "            else {\n",
    "                delete obj[char];\n",
    "            }   \n",
    "        }\n",
    "    }\n",
    "    if(Object.keys(obj).length <= 1) {\n",
    "        return true;\n",
    "    }\n",
    "    return false;\n",
    "}\n",
    "\n",
    "console.log(palPerm('Tact Coa'));\n",
    "console.log(palPerm('Tact boa'));\n",
    "console.log(palPerm('Taco Cat'));"
   ]
  },
  {
   "cell_type": "markdown",
   "metadata": {},
   "source": [
    "### Book Solutions:\n",
    "* palindrome = string that is the same forwards and backwards\n",
    "    - so must have an even number of almost all characters in the string and at most 1 character that is odd. \n",
    "* Solution:\n",
    "    1. use a hash table to count how many times a character appears.\n",
    "    2. then iterate through the hash table and ensure no more than one character has an odd count."
   ]
  },
  {
   "cell_type": "code",
   "execution_count": 110,
   "metadata": {},
   "outputs": [
    {
     "name": "stdout",
     "output_type": "stream",
     "text": [
      "true\n",
      "false\n",
      "true\n"
     ]
    }
   ],
   "source": [
    "var palinPerm = function(string) {\n",
    "  // create object literal to store charcount\n",
    "  var chars = {};\n",
    "  var currChar;\n",
    "  var mulligan = false;\n",
    "  var isPerm = true;\n",
    "  // pump characters in, spaces not counted, all lowercase\n",
    "  string.split('').forEach((char) => {\n",
    "    if (char !== ' ') {\n",
    "      currChar = char.toLowerCase();\n",
    "      if (chars[currChar] === undefined) {\n",
    "        chars[currChar] = 0;\n",
    "      }\n",
    "      chars[currChar]++;\n",
    "    }\n",
    "  });\n",
    "  // check that all chars are even count, except for one exception\n",
    "  Object.keys(chars).forEach((char) => {\n",
    "    if (chars[char] % 2 > 0) {\n",
    "    // if more than one exception, return false\n",
    "      if (mulligan) {\n",
    "        isPerm = false; // return in a forEach statment doesn't flow out of function scope\n",
    "      } else {\n",
    "        mulligan = true;\n",
    "      }\n",
    "    }\n",
    "  });\n",
    "  // if not return true\n",
    "  return isPerm;\n",
    "};\n",
    "\n",
    "// TESTS\n",
    "console.log(palinPerm('Tact Coa'));\n",
    "console.log(palinPerm('Tact boa'));\n",
    "console.log(palinPerm('Taco Cat'));"
   ]
  },
  {
   "cell_type": "markdown",
   "metadata": {},
   "source": [
    "## 1.5 One Away\n",
    "* There are three types of edits that can be performed on strings: insert a character, remove a character, or replace a character. Given two strings, write a funtion to check if they are one edit (or zero edits) away.\n",
    "* Example:\n",
    "    - pale, ple -> true\n",
    "    - pales, pale -> true\n",
    "    - pale, bale -> true\n",
    "    - pale, bake -> false\n",
    "* Hints:\n",
    "    - 23: Start with the easy thing. Can you check each of the conditions separately?\n",
    "    - 97: What is the relationship between the \"insert character\" option and the \"remove character\" option? Do these need to be two separate checks?\n",
    "    - 130: Can you do all three checks in a single pass?"
   ]
  },
  {
   "cell_type": "code",
   "execution_count": 158,
   "metadata": {},
   "outputs": [
    {
     "name": "stdout",
     "output_type": "stream",
     "text": [
      "true\n",
      "true\n",
      "true\n",
      "true\n",
      "false\n",
      "false\n",
      "true\n",
      "true\n"
     ]
    }
   ],
   "source": [
    "// my implementation\n",
    "// my solution is a little slower BECAUSE I iterate through all of it\n",
    "// and then decide if it is one away. \n",
    "// the other algorithm has an advantage because it is able to break out of\n",
    "// the loop and return right away if there is more than 1 mismatch!\n",
    "function oneAway(str1, str2) {\n",
    "    let diff = Math.abs(str1.length - str2.length);\n",
    "    if(diff > 1) { return false; }\n",
    "    let charObj = {};\n",
    "    for (let i = 0; i < str1.length; i++) {\n",
    "        let char = str1[i];\n",
    "        charObj[char] = char;\n",
    "    }\n",
    "    for(let i = 0; i < str2.length; i++) {\n",
    "        let char = str2[i];\n",
    "        if(charObj[char] !== undefined) {\n",
    "            delete charObj[char]\n",
    "        }\n",
    "    }\n",
    "    if(Object.keys(charObj).length <= 1) { return true; }\n",
    "    return false;\n",
    "}\n",
    "\n",
    "console.log(oneAway('pale', 'ple'));\n",
    "console.log(oneAway('ple', 'pale'));\n",
    "console.log(oneAway('pales', 'pale'));\n",
    "console.log(oneAway('pale', 'bale'));\n",
    "console.log(oneAway('pale', 'bake'));\n",
    "console.log(oneAway('bak', 'bakes'));\n",
    "console.log(oneAway('apple', 'aple'));\n",
    "console.log(oneAway('aple', 'apple'));"
   ]
  },
  {
   "cell_type": "markdown",
   "metadata": {},
   "source": [
    "### Book Solutions:\n",
    "* solution:\n",
    "    1. check the lengths of the two strings.\n",
    "        - if they are equal in length, check for any replacements\n",
    "        - if they are different in length by 1, then check for insertions or deletions\n",
    "        - if they are different by more than 1 in length, return false\n",
    "    2. just have to have a pointer for str1 and str2.\n",
    "        - if str1 is shorter than str2 and there is a mismatch, then increment str2's pointer and continue matching\n",
    "        - can be applied if str1 is longer than str2\n",
    "        - if they are the same length, then just have a difference counter be set to 1 if there is a mismatch and the second mismatch that is found will immediately return false!"
   ]
  },
  {
   "cell_type": "code",
   "execution_count": 162,
   "metadata": {},
   "outputs": [
    {
     "name": "stdout",
     "output_type": "stream",
     "text": [
      "true\n",
      "true\n",
      "true\n",
      "true\n",
      "false\n",
      "false\n",
      "true\n",
      "true\n"
     ]
    }
   ],
   "source": [
    "\n",
    "var oneAway = function(string1, string2) {\n",
    "  // insert a char for str1 -> remove a char for str2\n",
    "  var checkOneMissing = function(first, second) {\n",
    "    if (first.length !== second.length - 1) {\n",
    "      return false;\n",
    "    } else {\n",
    "      var mulligan = false;\n",
    "      var fP = 0; // first Pointer\n",
    "      var sP = 0; // second Pointer\n",
    "      while (fP < first.length) {\n",
    "        if (first[fP] !== second[sP]) {\n",
    "          if (mulligan) {\n",
    "            return false;\n",
    "          } else {\n",
    "            mulligan = true;\n",
    "            sP++; // second length is longer\n",
    "          }\n",
    "        } else {\n",
    "          fP++;\n",
    "          sP++;\n",
    "        }\n",
    "      }\n",
    "      return true;\n",
    "    }\n",
    "  };\n",
    "\n",
    "  var checkOneDiff = function(first, second) {\n",
    "    if (first.length !== second.length) {\n",
    "      return false;\n",
    "    } else {\n",
    "      var mulligan = false;\n",
    "      var fP = 0; // first Pointer\n",
    "      var sP = 0; // second Pointer\n",
    "      while (fP < first.length) {\n",
    "        if (first[fP] !== second[sP]) {\n",
    "          if (mulligan) {\n",
    "            return false; // more than one mismatch\n",
    "          } else {\n",
    "            mulligan = true; // use up mulligan\n",
    "          }\n",
    "        }\n",
    "        fP++;\n",
    "        sP++;\n",
    "      }\n",
    "      return true;\n",
    "    }\n",
    "  };\n",
    "  // insert a char for str1 -> remove a char for str2\n",
    "  // check one diff\n",
    "\n",
    "  return checkOneMissing(string1, string2) || checkOneMissing(string2, string1) || checkOneDiff(string1, string2);\n",
    "};\n",
    "\n",
    "console.log(oneAway('pale', 'ple'));\n",
    "console.log(oneAway('ple', 'pale'));\n",
    "console.log(oneAway('pales', 'pale'));\n",
    "console.log(oneAway('pale', 'bale'));\n",
    "console.log(oneAway('pale', 'bake'));\n",
    "console.log(oneAway('bak', 'bakes'));\n",
    "console.log(oneAway('apple', 'aple'));\n",
    "console.log(oneAway('aple', 'apple'));"
   ]
  },
  {
   "cell_type": "markdown",
   "metadata": {},
   "source": [
    "## 1.6 String Compression\n",
    "* Implement a method to perform basic string compression using the counts of repeated characters. For example, the string aabcccccaaa would become a2b1c5a3. If the \"compressed\" string would not become smaller than the original string, your method should return the original string. You can assume the string has only uppercase and lowercase letters (a-z).\n",
    "* Hints:\n",
    "    - 92: Do the easy thing first. Compress the string, then compare the lengths.\n",
    "    - 110: Be careful that you aren't repeatedly concatenating strings together. This can be very inefficient.\n",
    "* it turns out that javascript does have a StringBuilder under the hood for strings that does a .toString() when you ask for a result, so my solution's big O should be about the same as the faster solution but in real life, it is slower because I have to go through 2 for-loops instead of 1"
   ]
  },
  {
   "cell_type": "code",
   "execution_count": 175,
   "metadata": {},
   "outputs": [
    {
     "name": "stdout",
     "output_type": "stream",
     "text": [
      "a2b1c5a3\n",
      "abcdefghijklmnopqrstuvwxyz\n",
      "a1b1c1d1e1f1g1h1i1j1k1l1m1n1o1p1q1r1s2t1u1v1w1x1y1z1\n",
      "a9c1a6\n",
      "a6\n"
     ]
    }
   ],
   "source": [
    "// my implementation\n",
    "// my implementation is actually quite slower BECAUSE I am appending to\n",
    "// the string which would make it O(n^2)\n",
    "// so in actuality, my algorithm is O(p + k^2) where p = length of original string\n",
    "// and k = number of character sequences. \n",
    "// by character sequences, it is the number of duplicates that can be compressed\n",
    "// so aabccdeeaa would have 6 character sequences: aa, b, cc, d, ee, aa\n",
    "function compress(string) {\n",
    "    let charObj = {};\n",
    "    let compressed = \"\";\n",
    "    for(let i = 0; i < string.length; i++) {\n",
    "        let current = string[i];\n",
    "        let prev = (i - 1 === -1) ? '' : string[i - 1];\n",
    "        if(charObj[current] === undefined) {\n",
    "            charObj[current] = 1;\n",
    "        }\n",
    "        if(prev !== '') {\n",
    "            if (current === prev) {\n",
    "                charObj[current] += 1;\n",
    "            }\n",
    "            else if (current !== prev) {\n",
    "                compressed = compressed + prev + charObj[prev];\n",
    "                delete charObj[prev];\n",
    "            }\n",
    "        }\n",
    "        if(i === string.length - 1) {\n",
    "            compressed = compressed + current + charObj[current];\n",
    "        }\n",
    "    }\n",
    "    for(let i = 0; i < compressed.length; i++) {\n",
    "        let num = parseInt(compressed[i]);\n",
    "        if( !isNaN(num) && num > 1) {\n",
    "            return compressed;\n",
    "        }\n",
    "    }\n",
    "    return string;\n",
    "}\n",
    "\n",
    "console.log(compress('aabcccccaaa'));\n",
    "console.log(compress('abcdefghijklmnopqrstuvwxyz'));\n",
    "console.log(compress('abcdefghijklmnopqrsstuvwxyz'));\n",
    "console.log(compress('aaaaaaaaacaaaaaa'));\n",
    "console.log(compress('aaaaaa'));"
   ]
  },
  {
   "cell_type": "markdown",
   "metadata": {},
   "source": [
    "### Book Solutions:\n",
    "* solution:\n",
    "    1. iterate through the string\n",
    "    2. count number of occurrences of a letter\n",
    "    3. if the next letter is different, then we append the current letter and the number of occurrences to our compressed string and restart the counting\n",
    "    4. we then check the length of the compressed string with the original string\n",
    "        - if they are equal, return original\n",
    "        - if compressed is shorter, return compressed\n",
    "* solution 2: Optimal in some circumstances where there isn't a lot of repeating characters\n",
    "    1. we check if the compressed or the original are the same length first. return the original if they are!\n",
    "        - accomplished by just counting the length of compressed in a helper function\n",
    "    2. however, we also have to do another for-loop to actually make the compressed string then return it"
   ]
  },
  {
   "cell_type": "code",
   "execution_count": 177,
   "metadata": {},
   "outputs": [
    {
     "name": "stdout",
     "output_type": "stream",
     "text": [
      "a6\n",
      "a2b1c5a3\n"
     ]
    }
   ],
   "source": [
    "// this implementation is faster because it just uses 1 for-loop to iterate through\n",
    "// the entire string. it uses counter variables to do the work\n",
    "var strComp = function(string) {\n",
    "  var compressed = '';\n",
    "  var currChar = '';\n",
    "  var currCount = '';\n",
    "  var maxCount = 1;\n",
    "  for (var i = 0; i < string.length; i++) {\n",
    "    if (currChar !== string[i]) {\n",
    "//       console.log(currChar, string[i], i);\n",
    "      compressed = compressed + currChar + currCount;\n",
    "      maxCount = Math.max(maxCount, currCount);\n",
    "      currChar = string[i];\n",
    "      currCount = 1;\n",
    "    } else {\n",
    "      currCount++;\n",
    "    }\n",
    "  }\n",
    "  compressed = compressed + currChar + currCount;\n",
    "  maxCount = Math.max(maxCount, currCount);\n",
    "\n",
    "  return maxCount === 1 ? string : compressed;\n",
    "};\n",
    "\n",
    "// Test\n",
    "console.log(strComp('aaaaaa'));\n",
    "console.log(strComp('aabcccccaaa'));"
   ]
  },
  {
   "cell_type": "markdown",
   "metadata": {},
   "source": [
    "## 1.7 Rotate Matrix\n",
    "* Given an image represented by an NxN matrix, where each pixel in the image is 4 bytes, write a method to rotate thei mage by 90 degrees. Can you do this in place?\n",
    "* Hints:\n",
    "    - 51: Try thinking about it layer by layer. Can you rotate a specific layer?\n",
    "    - 100: Rotating a specific layer would just mean swapping the values in four arrays. If you were asked to swap the values in two arrays, could you do this? Can you then extend it to four arrays? "
   ]
  },
  {
   "cell_type": "code",
   "execution_count": null,
   "metadata": {},
   "outputs": [],
   "source": [
    "// did not attempt this"
   ]
  },
  {
   "cell_type": "markdown",
   "metadata": {},
   "source": [
    "### Book Solutions:"
   ]
  },
  {
   "cell_type": "code",
   "execution_count": 218,
   "metadata": {},
   "outputs": [
    {
     "name": "stdout",
     "output_type": "stream",
     "text": [
      "before:\n",
      "[ 1, 2, 3, 4 ]\n",
      "[ 0, 1, 2, 3 ]\n",
      "[ 0, 0, 1, 2 ]\n",
      "[ 1, 0, 0, 1 ]\n",
      "0 0\n",
      "0 1\n",
      "0 2\n",
      "1 1\n",
      "after:\n",
      "[ 1, 0, 0, 1 ]\n",
      "[ 0, 0, 1, 2 ]\n",
      "[ 0, 1, 2, 3 ]\n",
      "[ 1, 2, 3, 4 ]\n"
     ]
    }
   ],
   "source": [
    "  \n",
    "var rotateMatrix = function(matrix) {\n",
    "  var edge = matrix.length - 1;\n",
    "\n",
    "  var movePixels = function(row, col) {\n",
    "    // starts at m[row][col]\n",
    "    // moves to m[col][edge - row]\n",
    "    var fromRow;\n",
    "    var fromCol;\n",
    "    var fromPixel;\n",
    "\n",
    "    // first transformation\n",
    "    var toRow = row; // 0\n",
    "    var toCol = col; // 1\n",
    "    var toPixel = matrix[row][col];\n",
    "\n",
    "    // Do rotational transformation 4 times\n",
    "    for (var i = 0; i < 4; i++) {\n",
    "      fromRow = toRow;\n",
    "      fromCol = toCol;\n",
    "      toRow = fromCol;\n",
    "      toCol = edge - fromRow;\n",
    "\n",
    "      fromPixel = toPixel;\n",
    "      toPixel = matrix[toRow][toCol];\n",
    "      matrix[toRow][toCol] = fromPixel;\n",
    "    }\n",
    "  };\n",
    "\n",
    "  for (var i = 0; i < matrix.length / 2; i++) {\n",
    "    for (var j = i; j < edge - i; j++) {\n",
    "      console.log(i, j);\n",
    "      movePixels(i, j);\n",
    "    }\n",
    "  }\n",
    "};\n",
    "\n",
    "\n",
    "/* TEST */\n",
    "var testMatrix = [\n",
    "[1, 2, 3, 4],\n",
    "[0, 1, 2, 3],\n",
    "[0, 0, 1, 2],\n",
    "[1, 0, 0, 1]\n",
    "];\n",
    "\n",
    "console.log('before:');\n",
    "console.log(testMatrix[0]);\n",
    "console.log(testMatrix[1]);\n",
    "console.log(testMatrix[2]);\n",
    "console.log(testMatrix[3]);\n",
    "\n",
    "rotateMatrix(testMatrix);\n",
    "\n",
    "console.log('after:');\n",
    "console.log(testMatrix[0]);\n",
    "console.log(testMatrix[1]);\n",
    "console.log(testMatrix[2]);\n",
    "console.log(testMatrix[3]);"
   ]
  },
  {
   "cell_type": "markdown",
   "metadata": {},
   "source": [
    "## 1.8 Zero Matrix\n",
    "* Write an algorithm such that if an element in an MxN matrix is 0, its entire row and column are set to 0.\n",
    "* Hints:\n",
    "    - 17: If you just cleared the rows and columns as you found 0s, you'd likely wind up clearing the whole matrix. Try finding the cells with zeros first before making any changes to the matrix\n",
    "    - 74: Can you use O(n) additional space instead of O(n<superscript>2</superscript>)? What information do you really need from the list of cells that are zero?\n",
    "    - 102: You probably need some data storage to maintain a list of the rows and columns that need to be zeroed. Can you reduce the additional space usage to O(1) by using the matrix itself for data storage?"
   ]
  },
  {
   "cell_type": "code",
   "execution_count": 215,
   "metadata": {},
   "outputs": [
    {
     "name": "stdout",
     "output_type": "stream",
     "text": [
      "[ [ 1, 0, 0, 4 ], [ 0, 0, 0, 0 ], [ 0, 0, 0, 0 ] ]\n",
      "[ [ 1, 0, 1, 1 ],\n",
      "  [ 1, 0, 1, 1 ],\n",
      "  [ 0, 0, 0, 0 ],\n",
      "  [ 1, 0, 1, 1 ],\n",
      "  [ 1, 0, 1, 1 ],\n",
      "  [ 1, 0, 1, 1 ] ]\n"
     ]
    }
   ],
   "source": [
    "// my implementation\n",
    "function zeroMatrix(matrix, m, n) {\n",
    "    let row = {};\n",
    "    let col = {};\n",
    "    for(let r = 0; r < m; r++) {\n",
    "        for(let c = 0; c < n; c++) {\n",
    "            if(matrix[r][c] === 0) {\n",
    "                row[r] = r;\n",
    "                col[c] = c;\n",
    "            }\n",
    "        }\n",
    "    }\n",
    "    \n",
    "    for(let r = 0; r < m; r++) {\n",
    "        for(let c = 0; c < n; c++) {\n",
    "            if(row[r] || col[c]) {\n",
    "                matrix[r][c] = 0;\n",
    "            }\n",
    "        }\n",
    "    }\n",
    "    return matrix;\n",
    "}\n",
    "\n",
    "var matrix = [[1, 2, 3, 4],\n",
    "              [5, 0, 6, 7],\n",
    "              [8, 9, 0, 10]];\n",
    "var testMatrix = [\n",
    "  [1, 1, 1, 1],\n",
    "  [1, 1, 1, 1],\n",
    "  [1, 0, 1, 1],\n",
    "  [1, 1, 1, 1],\n",
    "  [1, 1, 1, 1],\n",
    "  [1, 1, 1, 1]\n",
    "];\n",
    "console.log(zeroMatrix(matrix, 3, 4))\n",
    "console.log(zeroMatrix(testMatrix, 6, 4))"
   ]
  },
  {
   "cell_type": "markdown",
   "metadata": {},
   "source": [
    "### Book Solutions:\n",
    "* solution:\n",
    "    1. create 2 boolean arrays that are equal to the rows and columns in length\n",
    "    2. iterate through the matrix using a nested for-loop that would then set \n",
    "    either the row[i] or col[i] to be true.\n",
    "    3. then iterate through matrix again and if row[i] or col[i], then set the matrix[i][j] = 0;\n",
    "* solution: this one uses O(1) space!\n",
    "    1. check if first row and first column have any zeros and set variables rowHasZero and colHasZero if ther are\n",
    "    2. iterate through matrix and set matrix[row][0] or matrix[0][col] to 0 if there is any zero in matrix[row][col]\n",
    "    3. iterate through matrix and set every row to 0 if there's a zero in matrix[row][0]\n",
    "    4. iterate for everything for matrix[0][col]\n",
    "    5. nullify the first row and first column"
   ]
  },
  {
   "cell_type": "code",
   "execution_count": 209,
   "metadata": {},
   "outputs": [
    {
     "name": "stdout",
     "output_type": "stream",
     "text": [
      "[ 1, 0, 1, 1 ]\n",
      "[ 1, 0, 1, 1 ]\n",
      "[ 0, 0, 0, 0 ]\n",
      "[ 1, 0, 1, 1 ]\n",
      "[ 1, 0, 1, 1 ]\n",
      "[ 1, 0, 1, 1 ]\n"
     ]
    }
   ],
   "source": [
    "/* Helper Functions */\n",
    "var checkZeros = function(matrix) {\n",
    "  var matrixHeight = matrix.length;\n",
    "  var matrixWidth = matrix[0].length;\n",
    "  var rowsToZeroify = {}; // use hashtables to remove duplicates\n",
    "  var colsToZeroify = {};\n",
    "\n",
    "  for (var i = 0; i < matrixHeight; i++) {\n",
    "    for (var j = 0; j < matrixWidth; j++) {\n",
    "      if (matrix[i][j] === 0) {\n",
    "        rowsToZeroify[i] = true;\n",
    "        colsToZeroify[j] = true;\n",
    "      }\n",
    "    }\n",
    "  }\n",
    "  return {\n",
    "    rowsToZeroify: rowsToZeroify,\n",
    "    colsToZeroify: colsToZeroify\n",
    "  };\n",
    "};\n",
    "\n",
    "var printMatrix = function(matrix) {\n",
    "  for (var i = 0; i < matrix.length; i++) {\n",
    "    console.log(matrix[i]);\n",
    "  }\n",
    "};\n",
    "\n",
    "var zeroifyCol = function(matrix, col) {\n",
    "  for (var i = 0; i < matrix.length; i++) {\n",
    "    matrix[i][col] = 0;\n",
    "  }\n",
    "};\n",
    "\n",
    "var zeroifyCols = function(matrix, zeroScan) {\n",
    "  for (var col in zeroScan.colsToZeroify) {\n",
    "    zeroifyCol(matrix, Number(col));  \n",
    "  }\n",
    "};\n",
    "\n",
    "var zeroifyRow = function(matrix, row) {\n",
    "  for (var i = 0; i < matrix[row].length; i++) {\n",
    "    matrix[row][i] = 0;\n",
    "  }\n",
    "};\n",
    "\n",
    "var zeroifyRows = function(matrix, zeroScan) {\n",
    "  for (var row in zeroScan.rowsToZeroify) {\n",
    "    zeroifyRow(matrix, Number(row));  \n",
    "  }\n",
    "};\n",
    "\n",
    "/* Main Function */\n",
    "var zeroMatrix = function(matrix) {\n",
    "\n",
    "  if(matrix.length === 0) { return; }\n",
    "\n",
    "  var zeroScan = checkZeros(matrix);\n",
    "\n",
    "  zeroifyCols(matrix, zeroScan);\n",
    "  zeroifyRows(matrix, zeroScan);\n",
    "\n",
    "};\n",
    "\n",
    "// Testing\n",
    "var testMatrix = [\n",
    "  [1, 1, 1, 1],\n",
    "  [1, 1, 1, 1],\n",
    "  [1, 0, 1, 1],\n",
    "  [1, 1, 1, 1],\n",
    "  [1, 1, 1, 1],\n",
    "  [1, 1, 1, 1]\n",
    "];\n",
    "\n",
    "zeroMatrix(testMatrix);\n",
    "printMatrix(testMatrix);"
   ]
  },
  {
   "cell_type": "markdown",
   "metadata": {},
   "source": [
    "## 1.9 String Rotation\n",
    "* Assume you have a method isSubstring which checks if one word is a substring of another. given two strings, s1 and s2, write code to check if s2 is a rotation of s1 using only one call to isSubstring (e.g. \"waterbottle\" is a rotation of \"erbottlewat\").\n",
    "* Hints: \n",
    "    - 34: If a string is a rotation of another, then it's a rotation at a particular point. For example, a rotation of waterbottle at character 3 means cutting waterbottle at character 3 and putting the right half (erbottle) before the left half(water).\n",
    "    - 88: We are essentially asking if there's a way of splitting the first string into two parts, x and y, such that the first string is xy and the second string is yx. For example, x = wat and y = erbottle. The first string is xy = waterbottle. The second string is yx = erbottlewat.\n",
    "    - 104: Think about the earlier hint. Then think about what happens when you concatenate erbottlewat to itself. YOu get erbottlewaterbottlewat."
   ]
  },
  {
   "cell_type": "code",
   "execution_count": 216,
   "metadata": {},
   "outputs": [
    {
     "name": "stdout",
     "output_type": "stream",
     "text": [
      "true\n",
      "true\n",
      "false\n"
     ]
    }
   ],
   "source": [
    "// forgot to check if strings were equal in length to return right away\n",
    "function isSubString(s1, s2) {\n",
    "    let newString = s2 + s2;\n",
    "    if(newString.indexOf(s1) !== -1) {\n",
    "        return true;\n",
    "    }\n",
    "    return false;\n",
    "}\n",
    "\n",
    "console.log(isSubString('waterbottle', 'erbottlewat'));\n",
    "console.log(isSubString('samsonnguyen', 'ensamsonnguy'));\n",
    "console.log(isSubString('samson', 'nguyen'));"
   ]
  },
  {
   "cell_type": "markdown",
   "metadata": {},
   "source": [
    "### Book Solutions:\n",
    "* solution:\n",
    "    1. concatenate s2 with s2\n",
    "    2. check if s1 is contained within s2"
   ]
  },
  {
   "cell_type": "code",
   "execution_count": 217,
   "metadata": {},
   "outputs": [
    {
     "name": "stdout",
     "output_type": "stream",
     "text": [
      "true\n",
      "true\n",
      "false\n"
     ]
    }
   ],
   "source": [
    "var stringRotation = function(string1, string2) {\n",
    "    if(string1.length !== string2.length) {\n",
    "        return false;\n",
    "    }\n",
    "    return (string2 + string2).includes(string1);\n",
    "}\n",
    "console.log(stringRotation('waterbottle', 'erbottlewat'));\n",
    "console.log(stringRotation('samsonnguyen', 'ensamsonnguy'));\n",
    "console.log(stringRotation('samson', 'nguyen'));"
   ]
  },
  {
   "cell_type": "markdown",
   "metadata": {},
   "source": [
    "# Summary:\n",
    "* determine if the character set is either ASCII or Unicode\n",
    "* see if you can do upfront work by manipulating the string first, then go on with the rest of the algorithm\n",
    "* see if you can use a hash table to keep count of number of chars or if you know it is ASCII, initialize an array with 128 elements in length then get the character code and do array[charCode] = true or false.\n",
    "    - remember that arrays are also as fast as hash tables for lookup if you know the index"
   ]
  },
  {
   "cell_type": "code",
   "execution_count": null,
   "metadata": {},
   "outputs": [],
   "source": []
  }
 ],
 "metadata": {
  "kernelspec": {
   "display_name": "Javascript (Node.js)",
   "language": "javascript",
   "name": "javascript"
  },
  "language_info": {
   "file_extension": ".js",
   "mimetype": "application/javascript",
   "name": "javascript",
   "version": "13.12.0"
  }
 },
 "nbformat": 4,
 "nbformat_minor": 2
}
