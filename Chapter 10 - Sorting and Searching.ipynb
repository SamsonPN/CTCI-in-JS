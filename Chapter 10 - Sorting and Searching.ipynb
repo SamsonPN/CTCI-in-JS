{
 "cells": [
  {
   "cell_type": "markdown",
   "metadata": {},
   "source": [
    "## 10.1 Sorted Merge"
   ]
  },
  {
   "cell_type": "code",
   "execution_count": 20,
   "metadata": {},
   "outputs": [
    {
     "name": "stdout",
     "output_type": "stream",
     "text": [
      "[\n",
      "   5,  8, 13, 14, 16, 17, 28,\n",
      "  37, 45, 47, 48, 49, 51, 52,\n",
      "  54, 56, 61, 63, 74, 77\n",
      "]\n"
     ]
    }
   ],
   "source": [
    "function sortedMerge(A, B) {\n",
    "    let a = A.length - 1;\n",
    "    let b = B.length - 1;\n",
    "    let z = A.length + B.length - 1;\n",
    "    \n",
    "    while(a >= 0 && b >= 0 && z >= 0) {\n",
    "        if(A[a] >= B[b]) {\n",
    "            A[z] = A[a];\n",
    "            a--;\n",
    "        }\n",
    "        else {\n",
    "            A[z] = B[b];\n",
    "            b--;\n",
    "        }\n",
    "        z--;\n",
    "    }\n",
    "    \n",
    "    // if we already went through all of B\n",
    "    // and A is the only one left\n",
    "    while(a > 0) {\n",
    "        A[z] = A[a];\n",
    "        a--;\n",
    "        z--;  \n",
    "    }\n",
    "    \n",
    "    // if we already went through all of A\n",
    "    // and B is the only one left\n",
    "    while(b >= 0) {\n",
    "        A[z] = B[b];\n",
    "        b--;\n",
    "        z--;\n",
    "    }\n",
    "    \n",
    "    return A;\n",
    "}\n",
    "\n",
    "var a = [5, 13, 17, 28, 37, 48, 49, 61, 63, 74];\n",
    "var b = [8, 14, 16, 45, 47, 51, 52, 54, 56, 77];\n",
    "// [5, 8, 13, 14, 16, 17, 28, 37, 45, 47, 48, 49, 51, 52, 54, 56, 61, 63, 74, 77];\n",
    "console.log(sortedMerge(a, b));"
   ]
  },
  {
   "cell_type": "markdown",
   "metadata": {},
   "source": [
    "### Book Solutions:"
   ]
  },
  {
   "cell_type": "code",
   "execution_count": null,
   "metadata": {},
   "outputs": [],
   "source": []
  },
  {
   "cell_type": "markdown",
   "metadata": {},
   "source": [
    "## 10.2 Group Anagrams"
   ]
  },
  {
   "cell_type": "code",
   "execution_count": 40,
   "metadata": {},
   "outputs": [
    {
     "data": {
      "text/plain": [
       "[\n",
       "  'nose',  'seon',\n",
       "  'eyes',  'seye',\n",
       "  'ye es', 'ears',\n",
       "  'sear',  'random'\n",
       "]"
      ]
     },
     "execution_count": 40,
     "metadata": {},
     "output_type": "execute_result"
    }
   ],
   "source": [
    "function groupAnagrams(arr) {\n",
    "    let anagrams = {};\n",
    "    arr.forEach(str => {\n",
    "        // sorts the string then trims any white space\n",
    "        let sorted = str.split('').sort().join('').trim();\n",
    "        if(anagrams[sorted] === undefined) {\n",
    "            anagrams[sorted] = [];\n",
    "        }\n",
    "        anagrams[sorted].push(str);\n",
    "    })\n",
    "    \n",
    "    let grouped = [];\n",
    "    \n",
    "    for(let sorted in anagrams) {\n",
    "        grouped = grouped.concat(anagrams[sorted]);\n",
    "    }\n",
    "    \n",
    "    return grouped;\n",
    "}\n",
    "\n",
    "var arr = ['nose', 'eyes', 'ears', 'seon', 'sear', 'seye', 'random', 'ye es'];\n",
    "groupAnagrams(arr);"
   ]
  },
  {
   "cell_type": "markdown",
   "metadata": {},
   "source": [
    "### Book Solutions:"
   ]
  },
  {
   "cell_type": "code",
   "execution_count": null,
   "metadata": {},
   "outputs": [],
   "source": []
  },
  {
   "cell_type": "markdown",
   "metadata": {},
   "source": [
    "## 10.3 Search in Rotated Array:"
   ]
  },
  {
   "cell_type": "code",
   "execution_count": 108,
   "metadata": {},
   "outputs": [
    {
     "name": "stdout",
     "output_type": "stream",
     "text": [
      "8\n",
      "{ mid: 5, start: 0, end: 11 }\n",
      "{ mid: 8, start: 6, end: 11 }\n",
      "8\n"
     ]
    }
   ],
   "source": [
    "function binarySearch(arr, item) {\n",
    "    return _binarySearch(item, arr, 0, arr.length - 1);\n",
    "}\n",
    "\n",
    "function _binarySearch(item, arr, start, end) {\n",
    "    let mid = Math.trunc(start + ((end - start) / 2));\n",
    "    \n",
    "    if(end < start) {\n",
    "        return -1;\n",
    "    }\n",
    "    if (arr[mid] === item) {\n",
    "        return mid;\n",
    "    }\n",
    "    else if(arr[mid] > item) {\n",
    "        return _binarySearch(item, arr, start, mid - 1);\n",
    "    }\n",
    "    else {\n",
    "        return _binarySearch(item, arr, mid + 1, end);\n",
    "    }\n",
    "}\n",
    "\n",
    "function rotatedBinarySearch(arr, item) {\n",
    "    return _rotatedBinarySearch(item, arr, 0, arr.length - 1);\n",
    "}\n",
    "\n",
    "function _rotatedBinarySearch(item, arr, start, end) {\n",
    "    let mid = Math.trunc(start +((end - start) / 2));\n",
    "    console.log({mid, start, end})\n",
    "    if(end < start) {\n",
    "        return -1;\n",
    "    }\n",
    "    if(arr[mid] === item) {\n",
    "        return mid;\n",
    "    }\n",
    "    else if(arr[mid] <= item && item <= arr[end]) {\n",
    "        return _rotatedBinarySearch(item, arr, mid + 1, end);\n",
    "    }\n",
    "    else if(arr[start] <= item && item <= arr[mid - 1]) {\n",
    "        return _rotatedBinarySearch(item, arr, start, mid - 1);\n",
    "    }\n",
    "}\n",
    "\n",
    "var input = [15, 16, 19, 20, 25, 1, 3, 4, 5, 7, 10, 14];\n",
    "console.log(binarySearch(input, 5));\n",
    "\n",
    "console.log(rotatedBinarySearch(input, 5));"
   ]
  },
  {
   "cell_type": "markdown",
   "metadata": {},
   "source": [
    "### Book Solutions:"
   ]
  },
  {
   "cell_type": "code",
   "execution_count": null,
   "metadata": {},
   "outputs": [],
   "source": []
  },
  {
   "cell_type": "markdown",
   "metadata": {},
   "source": [
    "## 10.4 Sorted Search, No Size"
   ]
  },
  {
   "cell_type": "code",
   "execution_count": null,
   "metadata": {},
   "outputs": [],
   "source": []
  },
  {
   "cell_type": "markdown",
   "metadata": {},
   "source": [
    "### Book Solutions:"
   ]
  },
  {
   "cell_type": "code",
   "execution_count": null,
   "metadata": {},
   "outputs": [],
   "source": []
  },
  {
   "cell_type": "code",
   "execution_count": null,
   "metadata": {},
   "outputs": [],
   "source": []
  },
  {
   "cell_type": "code",
   "execution_count": null,
   "metadata": {},
   "outputs": [],
   "source": []
  },
  {
   "cell_type": "code",
   "execution_count": null,
   "metadata": {},
   "outputs": [],
   "source": []
  },
  {
   "cell_type": "code",
   "execution_count": null,
   "metadata": {},
   "outputs": [],
   "source": []
  },
  {
   "cell_type": "code",
   "execution_count": null,
   "metadata": {},
   "outputs": [],
   "source": []
  },
  {
   "cell_type": "code",
   "execution_count": null,
   "metadata": {},
   "outputs": [],
   "source": []
  },
  {
   "cell_type": "code",
   "execution_count": null,
   "metadata": {},
   "outputs": [],
   "source": []
  },
  {
   "cell_type": "code",
   "execution_count": null,
   "metadata": {},
   "outputs": [],
   "source": []
  },
  {
   "cell_type": "code",
   "execution_count": null,
   "metadata": {},
   "outputs": [],
   "source": []
  },
  {
   "cell_type": "code",
   "execution_count": null,
   "metadata": {},
   "outputs": [],
   "source": []
  }
 ],
 "metadata": {
  "kernelspec": {
   "display_name": "Javascript (Node.js)",
   "language": "javascript",
   "name": "javascript"
  },
  "language_info": {
   "file_extension": ".js",
   "mimetype": "application/javascript",
   "name": "javascript",
   "version": "13.12.0"
  }
 },
 "nbformat": 4,
 "nbformat_minor": 2
}
