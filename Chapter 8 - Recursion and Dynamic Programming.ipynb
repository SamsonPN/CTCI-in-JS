{
 "cells": [
  {
   "cell_type": "markdown",
   "metadata": {},
   "source": [
    "## 8.1 Triple Step"
   ]
  },
  {
   "cell_type": "code",
   "execution_count": 95,
   "metadata": {},
   "outputs": [
    {
     "data": {
      "text/plain": [
       "274"
      ]
     },
     "execution_count": 95,
     "metadata": {},
     "output_type": "execute_result"
    }
   ],
   "source": [
    "// naive recursive algorithm\n",
    "function stepCount(n) {\n",
    "    return n <= 0 ? 0 : _stepCount(n, n, 0)\n",
    "}\n",
    "\n",
    "function _stepCount(n, current, ways) {\n",
    "    if(current === 0) {\n",
    "        ways++;\n",
    "        return ways;\n",
    "    }\n",
    "    else if (current < 0) {\n",
    "        return ways;\n",
    "    }\n",
    "    else {\n",
    "        ways = _stepCount(n, current - 1, ways);\n",
    "        ways = _stepCount(n, current - 2, ways);\n",
    "        ways = _stepCount(n, current - 3, ways);\n",
    "    }\n",
    "    return ways;\n",
    "}\n",
    "\n",
    "stepCount(10)"
   ]
  },
  {
   "cell_type": "code",
   "execution_count": 109,
   "metadata": {},
   "outputs": [
    {
     "name": "stdout",
     "output_type": "stream",
     "text": [
      "274\n",
      "1.803963808151009e+26\n",
      "2.7588428077664853e+264\n"
     ]
    }
   ],
   "source": [
    "// memoized version\n",
    "function stepMemo(n) {\n",
    "    let memo = {};\n",
    "    return n <= 0 ? 0 : _stepMemo(n, n, 0, memo)\n",
    "}\n",
    "\n",
    "function _stepMemo(n, current, ways, memo) {\n",
    "    if(memo[current]) {\n",
    "        return ways + memo[current];\n",
    "    }\n",
    "    else if(current === 0) {\n",
    "        ways++;\n",
    "        return ways;\n",
    "    }\n",
    "    else if (current < 0) {\n",
    "        return ways;\n",
    "    }\n",
    "    else {\n",
    "        ways = _stepMemo(n, current - 1, ways, memo);\n",
    "        ways = _stepMemo(n, current - 2, ways, memo);\n",
    "        ways = _stepMemo(n, current - 3, ways, memo);\n",
    "        memo[current] = ways;\n",
    "    }\n",
    "    return ways;\n",
    "}\n",
    "\n",
    "console.log(stepMemo(10))\n",
    "console.log(stepMemo(100))\n",
    "console.log(stepMemo(1000))"
   ]
  },
  {
   "cell_type": "markdown",
   "metadata": {},
   "source": [
    "* exactly the same as __bottom-up Fibonacci__\n",
    "* only difference is that it keeps track of 3 values instead of 2"
   ]
  },
  {
   "cell_type": "code",
   "execution_count": 100,
   "metadata": {},
   "outputs": [
    {
     "name": "stdout",
     "output_type": "stream",
     "text": [
      "274\n",
      "1.803963808151009e+26\n",
      "2.7588428077664853e+264\n"
     ]
    }
   ],
   "source": [
    "// bottom up\n",
    "function stepDP(n) {\n",
    "    if(n <= 0) {\n",
    "        return 0;\n",
    "    }\n",
    "    else if (n <= 2) {\n",
    "        return n;\n",
    "    }\n",
    "    else {\n",
    "        let oneStep = 2;\n",
    "        let twoStep = 1;\n",
    "        let threeStep = 1;\n",
    "        for(let i = 3; i < n; i++) {\n",
    "            let temp = oneStep + twoStep + threeStep;\n",
    "            threeStep = twoStep;\n",
    "            twoStep = oneStep;\n",
    "            oneStep = temp;\n",
    "        }\n",
    "        return oneStep + twoStep + threeStep;\n",
    "    }\n",
    "}\n",
    "\n",
    "console.log(stepDP(10))\n",
    "console.log(stepDP(100))\n",
    "console.log(stepDP(1000))"
   ]
  },
  {
   "cell_type": "markdown",
   "metadata": {},
   "source": [
    "### Book Solutions\n",
    "* naive rec. alg: O(3$^{n}$)\n",
    "    - similar to fibonacci\n",
    "* memoized solution: O(n)\n",
    "    - b/c the only time you have a recursive call is when you have to figure out the value of a new number\n",
    "    - else, it'll be in the memo table already"
   ]
  },
  {
   "cell_type": "code",
   "execution_count": 110,
   "metadata": {},
   "outputs": [
    {
     "data": {
      "text/plain": [
       "274"
      ]
     },
     "execution_count": 110,
     "metadata": {},
     "output_type": "execute_result"
    }
   ],
   "source": [
    "// simple implementation\n",
    "\n",
    "function countWays(n) {\n",
    "    if (n < 0) {\n",
    "        return 0;\n",
    "    }\n",
    "    // assume that countWays(0) = 1\n",
    "    else if (n === 0) {\n",
    "        return 1;\n",
    "    }\n",
    "    else {\n",
    "        return countWays(n - 1) + countWays(n - 2) + countWays(n - 3);\n",
    "    }\n",
    "}\n",
    "\n",
    "countWays(10)"
   ]
  },
  {
   "cell_type": "code",
   "execution_count": 112,
   "metadata": {},
   "outputs": [
    {
     "data": {
      "text/plain": [
       "1.803963808151009e+26"
      ]
     },
     "execution_count": 112,
     "metadata": {},
     "output_type": "execute_result"
    }
   ],
   "source": [
    "// memoized\n",
    "\n",
    "function countWaysMemo(n) {\n",
    "    let memo = [];\n",
    "    return _countWaysMemo(n, memo);\n",
    "}\n",
    "\n",
    "function _countWaysMemo(n, memo) {\n",
    "    if (n < 0) {\n",
    "        return 0;\n",
    "    }\n",
    "    else if (n === 0) {\n",
    "        return 1;\n",
    "    }\n",
    "    else if (memo[n]) {\n",
    "        return memo[n]\n",
    "    }\n",
    "    else {\n",
    "        memo[n] = _countWaysMemo(n - 1, memo) + _countWaysMemo(n - 2, memo) + _countWaysMemo(n - 3, memo);\n",
    "        return memo[n];\n",
    "    }\n",
    "}\n",
    "\n",
    "countWaysMemo(100)"
   ]
  },
  {
   "cell_type": "markdown",
   "metadata": {},
   "source": [
    "## 8.2 Robot in Grid"
   ]
  },
  {
   "cell_type": "code",
   "execution_count": 67,
   "metadata": {},
   "outputs": [
    {
     "name": "stdout",
     "output_type": "stream",
     "text": [
      "0\n"
     ]
    }
   ],
   "source": [
    "function robo(grid, r = 0, c = 0, path = '') {\n",
    "    if(r === 0 && c === 0) {\n",
    "        return true;\n",
    "    }\n",
    "    else if (r >= 0 && c >= 0) {\n",
    "        path = robo(grid, r - 1, c, path);\n",
    "        path = robo(grid, r, c - 1, path);\n",
    "    }\n",
    "    return path;\n",
    "}\n",
    "\n",
    "var grid = [\n",
    "    [ 0,  0, 0, 0, 0],\n",
    "    [ 0,  0, 0, 0,'x'],\n",
    "    ['x', 0, 0, 0, 0],\n",
    "    [ 0,  0,'x',0, 0],\n",
    "    ['x', 0, 0, 0, 0],\n",
    "];\n",
    "\n",
    "console.log(robo(grid, grid.length - 1, grid[0].length) - 1);"
   ]
  },
  {
   "cell_type": "markdown",
   "metadata": {},
   "source": [
    "### Book Solutions:\n",
    "* solution: __O(2$^{r + c}$), where r = # rows, and c = # cols__\n",
    "    1. if maze is empty or null, return null\n",
    "    2. call on _getPath(maze, r, c, path)\n",
    "        - path is an array of points (r, c)\n",
    "    3. first checks if row or cols are out of bounds, then checks if the spot can be stepped on\n",
    "    4. if it can, then check if it is at the origin\n",
    "    5. if it is not, move down or right by 1 point\n",
    "    6. once it is at the origin, push the current (r, c) point to the path array\n",
    "    7. return true\n",
    "* overlapping problem:\n",
    "    - for a path to [r, c], we check [r - 1, c] or [r, c - 1]\n",
    "    - then we check the adjacent cells of those two so [r - 2, c], [r - 1, c - 1], [r - 1, c - 1], [r, c - 2]\n",
    "    - as you can see, we check [r - 1, c - 1] twice so that is unnecessary work that can be avoided and instead memoized\n",
    "* memoized solution: __O(r * c) b/c only hit each cell once__\n",
    "    1. same as before but we have a hash table called failedPoints\n",
    "    2. if the cell is a dead-end and we have to backtrack, add the rc into failedPoints\n",
    "    3. and if we have already arrived at the cell before, i.e. failedPoints[rc] === true, then we return false and don't check that spot again\n",
    "***\n",
    "* different from my solution b/c I used a string to get the answer instead when I should've used an array\n",
    "    - it would've made more sense to push a point to an array than to just add 'R' or 'L' every time I went in a certain direction\n",
    "    - not to mention, it is easier to retrieve the answer since it passes a reference of the array and not the value so once the algo is done, all changes that are made to the path array by the rec. algo are then saved and not overwritten"
   ]
  },
  {
   "cell_type": "code",
   "execution_count": 95,
   "metadata": {},
   "outputs": [
    {
     "data": {
      "text/plain": [
       "[\n",
       "  { r: 0, c: 0 },\n",
       "  { r: 1, c: 0 },\n",
       "  { r: 1, c: 1 },\n",
       "  { r: 1, c: 2 },\n",
       "  { r: 2, c: 2 },\n",
       "  { r: 2, c: 3 },\n",
       "  { r: 3, c: 3 },\n",
       "  { r: 3, c: 4 },\n",
       "  { r: 4, c: 4 }\n",
       "]"
      ]
     },
     "execution_count": 95,
     "metadata": {},
     "output_type": "execute_result"
    }
   ],
   "source": [
    "function getPath(maze) {\n",
    "    if(maze == null || maze.length === 0) {\n",
    "        return null;\n",
    "    }\n",
    "    let path = [];\n",
    "    if(_getPath(maze, maze.length - 1, maze[0].length - 1, path)) {\n",
    "        return path;\n",
    "    }\n",
    "    return null;\n",
    "}\n",
    "\n",
    "function _getPath(maze, r, c, path) {\n",
    "    if(c < 0 || r < 0 || !maze[r][c]) {\n",
    "        return false;\n",
    "    }\n",
    "    \n",
    "    let isAtOrigin = (r === 0) && (c === 0);\n",
    "    \n",
    "    // this helps check if there even IS a path\n",
    "    // b/c if it is not at the origin and both _getPath() calls return false,\n",
    "    // we know there is no way for a path to form\n",
    "    if(isAtOrigin || _getPath(maze, r, c - 1, path) || _getPath(maze, r - 1, c, path)) {\n",
    "        path.push({r, c});\n",
    "        return true;\n",
    "    }\n",
    "    return false;\n",
    "}\n",
    "\n",
    "var maze = [\n",
    "    [1,1,1,1,1],\n",
    "    [1,1,1,0,1],\n",
    "    [1,0,1,1,1],\n",
    "    [1,1,0,1,1],\n",
    "    [0,1,1,0,1]\n",
    "];\n",
    "\n",
    "getPath(maze);"
   ]
  },
  {
   "cell_type": "code",
   "execution_count": 107,
   "metadata": {},
   "outputs": [
    {
     "data": {
      "text/plain": [
       "[\n",
       "  { r: 0, c: 0 },\n",
       "  { r: 1, c: 0 },\n",
       "  { r: 1, c: 1 },\n",
       "  { r: 1, c: 2 },\n",
       "  { r: 2, c: 2 },\n",
       "  { r: 2, c: 3 },\n",
       "  { r: 3, c: 3 },\n",
       "  { r: 3, c: 4 },\n",
       "  { r: 4, c: 4 }\n",
       "]"
      ]
     },
     "execution_count": 107,
     "metadata": {},
     "output_type": "execute_result"
    }
   ],
   "source": [
    "function getPathDP(maze) {\n",
    "    if(maze == null || maze.length === 0) {\n",
    "        return null;\n",
    "    }\n",
    "    let path = [];\n",
    "    let failedPoints = {};\n",
    "    if(_getPathDP(maze, maze.length - 1, maze[0].length - 1, path, failedPoints)) {\n",
    "        return path;\n",
    "    }\n",
    "    return null;\n",
    "}\n",
    "\n",
    "function _getPathDP(maze, r, c, path, failedPoints) {\n",
    "    if(c < 0 || r < 0 || !maze[r][c]) {\n",
    "        return false;\n",
    "    }\n",
    "    \n",
    "    // if we have already visited this point\n",
    "    if(failedPoints[`${r}${c}`]) {\n",
    "        return false;\n",
    "    }\n",
    "    \n",
    "    let isAtOrigin = (r === 0) && (c === 0);\n",
    "    \n",
    "    if(isAtOrigin || _getPathDP(maze, r, c - 1, path, failedPoints) || _getPathDP(maze, r - 1, c, path, failedPoints)) {\n",
    "        path.push({r, c});\n",
    "        return true;\n",
    "    }\n",
    "    failedPoints[`${r}${c}`] = true;\n",
    "    return false;\n",
    "}\n",
    "\n",
    "var maze = [\n",
    "    [1,1,1,1,1],\n",
    "    [1,1,1,0,1],\n",
    "    [1,0,1,1,0],\n",
    "    [1,0,0,1,1],\n",
    "    [0,1,1,0,1]\n",
    "];\n",
    "\n",
    "getPathDP(maze);"
   ]
  },
  {
   "cell_type": "markdown",
   "metadata": {},
   "source": [
    "## 8.3 Magic Index"
   ]
  },
  {
   "cell_type": "code",
   "execution_count": 109,
   "metadata": {},
   "outputs": [
    {
     "data": {
      "text/plain": [
       "true"
      ]
     },
     "execution_count": 109,
     "metadata": {},
     "output_type": "execute_result"
    }
   ],
   "source": [
    "// O(n)\n",
    "function magicIndex(arr) {\n",
    "    let found = false;\n",
    "    for(let i = 0; i < arr.length; i++) {\n",
    "        if(arr[i] === i) {\n",
    "            found = true;\n",
    "            break;\n",
    "        }\n",
    "    }\n",
    "    return found;\n",
    "}\n",
    "\n",
    "var arr = [0, 3, 5, 7, 9, 10, 11, 12, 14, 20];\n",
    "magicIndex(arr)"
   ]
  },
  {
   "cell_type": "code",
   "execution_count": 143,
   "metadata": {},
   "outputs": [
    {
     "name": "stdout",
     "output_type": "stream",
     "text": [
      "true\n",
      "false\n",
      "true\n",
      "true\n"
     ]
    }
   ],
   "source": [
    "// function binarySearch(arr, num, low, high) {\n",
    "//     let midpoint = Math.trunc( low + ( (high - low) / 2) );\n",
    "//     if(num === arr[midpoint]) {\n",
    "//         return true;\n",
    "//     }\n",
    "//     else if (high < low) {\n",
    "//         return false;\n",
    "//     }\n",
    "//     else if (num < arr[midpoint]) {\n",
    "//         return binarySearch(arr, num, low, midpoint - 1);\n",
    "//     }\n",
    "//     else if (num > arr[midpoint]) {\n",
    "//         return binarySearch(arr, num, midpoint + 1, high);\n",
    "//     }\n",
    "// }\n",
    "\n",
    "// var arr = [0, 3, 5, 7, 9, 10, 11, 12, 14, 20];\n",
    "// console.log(binarySearch(arr, 8, 0, arr.length))\n",
    "\n",
    "\n",
    "// O(log n) solution based off of binary search\n",
    "function binaryMI(arr, low, high) {\n",
    "    let midpoint = Math.trunc( low + ( (high - low) / 2) );\n",
    "    if(arr[midpoint] === midpoint) {\n",
    "        return true;\n",
    "    }\n",
    "    else if (high < low) {\n",
    "        return false;\n",
    "    }\n",
    "    // if arr[i] > i, so if arr[9] > 9,\n",
    "    // we know that any numbers below it would have at\n",
    "    // least one number that is a magic index\n",
    "    else if (arr[midpoint] > midpoint) {\n",
    "        return binaryMI(arr, low, midpoint - 1);\n",
    "    }\n",
    "    // else if arr[i] < i, then we know that any numbers larger than it\n",
    "    // would yield a magic index\n",
    "    else {\n",
    "        return binaryMI(arr, midpoint + 1, high);\n",
    "    }\n",
    "}\n",
    "\n",
    "// true\n",
    "var arr = [0, 3, 5, 7, 9, 10, 11, 12, 14, 20];\n",
    "console.log(binaryMI(arr, 0, arr.length));\n",
    "\n",
    "// false\n",
    "arr = [1, 3, 5, 7, 9, 10, 11, 12, 14, 20];\n",
    "console.log(binaryMI(arr, 0, arr.length));\n",
    "\n",
    "// true w/ non-distinct values\n",
    "arr = [-10, -5, 2, 2, 2, 3, 4, 7, 9, 12, 13];\n",
    "console.log(binaryMI(arr, 0, arr.length));\n",
    "\n",
    "// true w/ sample from book\n",
    "arr = [-40, -20, -1, 1, 2, 3, 5, 7, 9, 12, 13];\n",
    "console.log(binaryMI(arr, 0, arr.length));"
   ]
  },
  {
   "cell_type": "markdown",
   "metadata": {},
   "source": [
    "### Book Solutions:\n",
    "* __SINCE THEY ASKED ABOUT SORTED ARRAYS AND A FOLLOW-UP ON NON-SORTED ARRAYS, YOU SHOULD ALWAYS TRY TO SEE IF IT IS RELATED TO BINARY SEARCH SOMEHOW__\n",
    "* brute force algorithm: \n",
    "    - loop through the entire array and see if it fulfills the condition\n",
    "* binary search method:\n",
    "    - exactly the same as my solution\n",
    "    - when A[mid] < mid, we know that the magic index cannot be on the left side and must be on the right side\n",
    "    - this is b/c if A[mid] is already small, then moving from i --> i - 1 would have the values also decrease by 1+\n",
    "    - since the array is sorted as well, these values will always be small\n",
    "    - this applies if A[mid] > mid too but all the values on the right side, i --> i + 1, would be too big\n",
    "* will this work with non-distinct values? __No__\n",
    "    - we can't really conclude which side the magic index could be on\n",
    "    - thus, we should compare midIndex and midValue (value that is at the middle of the entire array) for equality first, then:\n",
    "        - left: search from start --> Math.min(midIndex - 1, midValue)\n",
    "        - right: search from Math.max(midIndex + 1, midValue) --> end"
   ]
  },
  {
   "cell_type": "code",
   "execution_count": 146,
   "metadata": {},
   "outputs": [
    {
     "name": "stdout",
     "output_type": "stream",
     "text": [
      "0\n",
      "-1\n",
      "7\n",
      "7\n"
     ]
    }
   ],
   "source": [
    "function magicFast(array) {\n",
    "    return _magicFast(array, 0, array.length - 1);\n",
    "}\n",
    "\n",
    "function _magicFast(array, start, end) {\n",
    "    if(end < start) {\n",
    "        return -1;\n",
    "    }\n",
    "    let mid = Math.trunc((start + end) / 2);\n",
    "    if(array[mid] === mid) {\n",
    "        return mid;\n",
    "    }\n",
    "    else if (array[mid] > mid) {\n",
    "        return _magicFast(array, start, mid - 1);\n",
    "    }\n",
    "    else {\n",
    "        return _magicFast(array, mid + 1, end);\n",
    "    }\n",
    "}\n",
    "\n",
    "// true\n",
    "var arr = [0, 3, 5, 7, 9, 10, 11, 12, 14, 20];\n",
    "console.log(magicFast(arr));\n",
    "\n",
    "// false\n",
    "arr = [1, 3, 5, 7, 9, 10, 11, 12, 14, 20];\n",
    "console.log(magicFast(arr));\n",
    "\n",
    "// true w/ non-distinct values\n",
    "// I DON'T KNOW WHY IT WORKS BUT IT SHOULDN'T\n",
    "arr = [-10, -5, 2, 2, 2, 3, 4, 7, 9, 12, 13];\n",
    "console.log(magicFast(arr));\n",
    "\n",
    "// true w/ sample from book\n",
    "arr = [-40, -20, -1, 1, 2, 3, 5, 7, 9, 12, 13];\n",
    "console.log(magicFast(arr));"
   ]
  },
  {
   "cell_type": "code",
   "execution_count": null,
   "metadata": {},
   "outputs": [],
   "source": [
    "// to make it work with non-distinct elements\n",
    "\n",
    "function magicFast(array) {\n",
    "    return _magicFast(array, 0, array.length - 1);\n",
    "}\n",
    "\n",
    "function _magicFast(array, start, end) {\n",
    "    if(end < start) {\n",
    "        return -1;\n",
    "    }\n",
    "    \n",
    "    let midIndex = Math.trunc((start + end) / 2);\n",
    "    let midValue = array[midIndex];\n",
    "    if(midValue === midIndex) {\n",
    "        return midIndex;\n",
    "    }\n",
    "    \n",
    "    // search left\n",
    "    let leftIndex = Math.min(midIndex - 1, midValue);\n",
    "    let left = _magicFast(array, start, leftIndex);\n",
    "    if(left >= 0) {\n",
    "        return left;\n",
    "    }\n",
    "    \n",
    "    // search right\n",
    "    let rightIndex = Math.max(midIndex + 1, midValue);\n",
    "    let right = _magicFast(array, rightIndex, end);\n",
    "    \n",
    "    return right;\n",
    "}"
   ]
  },
  {
   "cell_type": "markdown",
   "metadata": {},
   "source": [
    "## 8.4 Power Set"
   ]
  },
  {
   "cell_type": "code",
   "execution_count": 43,
   "metadata": {},
   "outputs": [
    {
     "data": {
      "text/plain": [
       "[\n",
       "  [],\n",
       "  [ 'a' ],\n",
       "  [ 'b' ],\n",
       "  [ 'a', 'b' ],\n",
       "  [ 'c' ],\n",
       "  [ 'a', 'c' ],\n",
       "  [ 'b', 'c' ],\n",
       "  [ 'a', 'b', 'c' ]\n",
       "]"
      ]
     },
     "execution_count": 43,
     "metadata": {},
     "output_type": "execute_result"
    }
   ],
   "source": [
    "function powerSet(set) {\n",
    "    let pSet = [];\n",
    "    let max = 1 << set.length;\n",
    "    \n",
    "    for(let i = 0; i < max; i++) {\n",
    "        let subset = convertInt(i, set);\n",
    "        pSet.push(subset);\n",
    "    }\n",
    "    return pSet;\n",
    "}\n",
    "\n",
    "function convertInt(num, set) {\n",
    "    let subset = []\n",
    "    for(let i = 0; i < set.length; i++) {\n",
    "        // this creates a mask that looks at the bit at the\n",
    "        // ith position\n",
    "        let mask = 1 << i;\n",
    "        // then if the bit at the ith position in our num\n",
    "        // is set, then that means that the element \n",
    "        // in set[i] is present, so we add that to the subset\n",
    "        if( (num & mask) > 0 ) {\n",
    "            subset.push(set[i]);\n",
    "        }\n",
    "    }\n",
    "    return subset\n",
    "}\n",
    "\n",
    "powerSet(['a', 'b', 'c'])"
   ]
  },
  {
   "cell_type": "markdown",
   "metadata": {},
   "source": [
    "### Book Solutions:\n",
    "* there are 2$^{n}$ subsets for a set b/c when creating a set, there are 2 options for each element in that set\n",
    "    - it can either be in the set or not in the set, so 2 possibilities\n",
    "    - thus for each element, there are 2 choices for it so it can be expressed as {2 * 2 * 2 ... * 2} for every element\n",
    "* time/space complexity = O(n * 2$^{n}$)\n",
    "    - this is b/c we are returning a list of subsets and each element will be contained in half of the subsets\n",
    "    - so it would be n (number of elements) * number of subsets\n",
    "* recursion solution:\n",
    "    1. compute the first set\n",
    "    2. then clone the results\n",
    "    3. then add the next element in the set to each of the cloned sets"
   ]
  },
  {
   "cell_type": "code",
   "execution_count": 39,
   "metadata": {},
   "outputs": [
    {
     "name": "stdout",
     "output_type": "stream",
     "text": [
      "[\n",
      "  [],\n",
      "  [ 'a' ],\n",
      "  [ 'a', 'b' ],\n",
      "  [ 'a', 'b', 'c' ],\n",
      "  [ 'a', 'c' ],\n",
      "  [ 'b' ],\n",
      "  [ 'b', 'c' ],\n",
      "  [ 'c' ]\n",
      "]\n"
     ]
    }
   ],
   "source": [
    "function returnSubsets(set) {\n",
    "    let subsets = [];\n",
    "    const recurse = function(currSet, remainingSet) {\n",
    "        subsets.push(currSet);\n",
    "        for(let i = 0; i < remainingSet.length; i++) {\n",
    "            recurse(currSet.concat([remainingSet[i]]), remainingSet.slice(i + 1));\n",
    "        }\n",
    "    };\n",
    "    recurse([], set);\n",
    "    return subsets;\n",
    "}\n",
    "\n",
    "console.log(returnSubsets(['a', 'b', 'c']))"
   ]
  },
  {
   "cell_type": "markdown",
   "metadata": {},
   "source": [
    "## 8.5 Recursive Multiply"
   ]
  },
  {
   "cell_type": "code",
   "execution_count": 47,
   "metadata": {},
   "outputs": [
    {
     "data": {
      "text/plain": [
       "117"
      ]
     },
     "execution_count": 47,
     "metadata": {},
     "output_type": "execute_result"
    }
   ],
   "source": [
    "// naive rec. alg\n",
    "\n",
    "function recMult(a, b) {\n",
    "    let max = Math.max(a,b);\n",
    "    let min = Math.min(a,b);\n",
    "    return _recMult(max, min);\n",
    "}\n",
    "\n",
    "function _recMult(max, min) {\n",
    "    if(min === 0) {\n",
    "        return 0;\n",
    "    }\n",
    "    else {\n",
    "        return max + _recMult(max, min - 1);\n",
    "    }\n",
    "}\n",
    "\n",
    "recMult(13, 9);"
   ]
  },
  {
   "cell_type": "code",
   "execution_count": 107,
   "metadata": {},
   "outputs": [
    {
     "name": "stdout",
     "output_type": "stream",
     "text": [
      "117\n"
     ]
    }
   ],
   "source": [
    "function largestPower(n) {\n",
    "    let x;\n",
    "    while(n !== 0) {\n",
    "        x = n;\n",
    "        n &= (n - 1);\n",
    "    }\n",
    "    return x;\n",
    "}\n",
    "\n",
    "\n",
    "function figureExponent(n) {\n",
    "    let exp = 0;\n",
    "    while(n > 0) {\n",
    "        n >>= 1;\n",
    "        if(n !== 1) {\n",
    "            exp++;  \n",
    "        }\n",
    "    }\n",
    "    return exp;\n",
    "}\n",
    "\n",
    "function optMult(a, b) {\n",
    "    let max = Math.max(a, b);\n",
    "    let min = Math.min(a, b);\n",
    "    let lp = largestPower(min);\n",
    "    let exp = figureExponent(lp);\n",
    "    let remainder = min - lp;\n",
    "    return (max << exp) + _optMult(max, remainder);\n",
    "}\n",
    "\n",
    "function _optMult(max, min) {\n",
    "    if(min === 0) {\n",
    "        return 0;\n",
    "    }\n",
    "    else {\n",
    "        return max + _optMult(max, min - 1);\n",
    "    }\n",
    "}\n",
    "\n",
    "console.log(optMult(13, 9));"
   ]
  },
  {
   "cell_type": "markdown",
   "metadata": {},
   "source": [
    "### Book Solutions\n",
    "* what does it mean to multiply?\n",
    "    - 8 x 7 = 8 + 8 + 8 + 8 + 8 + 8 + 8\n",
    "* a way to think about 8 x 7 is to count the number of cells in an 8x7 matrix\n",
    "    - a fast way to do it is to count a 4 x 7 grid and then double it\n",
    "    - and we can count a 4 x 7 grid by counting a 2 x 7 grid and doubling that\n",
    "* naive rec. solution:\n",
    "    1. figure out the bigger and the smaller number\n",
    "    2. smaller number >> 2\n",
    "    3. compute the half-product\n",
    "        - if it is uneven, we compute the other half\n",
    "        - if it is not, we double it\n",
    "    4. then we return the additions of the halves\n",
    "***\n",
    "* flaw with the naive solutin b/c there is duplicated work\n",
    "    - suppose we have 17 x 23\n",
    "    - the two halves would be (8 x 23) + (9, 23)\n",
    "    - for both, the respective halves are:\n",
    "        - (8 x 23) = (4 x 23) + (4 x 23)\n",
    "        - (9 x 23) = (4 x 23) + (5 x 23)\n",
    "   - therefore, you can memoize the solution to one of these and you would be able to speed it up\n",
    "***\n",
    "* memoized solution:\n",
    "    1. declare a new array called memo\n",
    "    2. same conditionals and an extra conditional to return memo[smaller] if it is present\n",
    "    3. then once we have computed the two halves, we can put it in the memo table\n",
    "        - memo[smaller] = side1 + side2\n",
    "***\n",
    "* with the memoized solution, even numbers are much faster than odd numbers to multiply\n",
    "    - this is b/c when we do 30 x 35, we can do 2 * (15 x 35)\n",
    "    - but with 31 x 35, we have to do (15 x 35) + (16 x 35), then we continue to halve it\n",
    "    - this is unnecessary\n",
    "* instead, what we can do is 2 * (15 x 35) + 35\n",
    "* so the logic is to divide the smaller number by 2 and double the result\n",
    "    - and if the smaller number is odd, we just add the bigger number to the result\n",
    "***\n",
    "* fastest solution:\n",
    "    1. divide smaller number by 2\n",
    "    2. if smaller number is even: halfProd + halfProd\n",
    "    3. if smaller number is odd: halfProd + halfProd + bigger\n",
    "* for example: 3 x 3\n",
    "    1. 3 >> 2 = 1\n",
    "    2. since it is odd, we do (3 + 3 + 3) = 9"
   ]
  },
  {
   "cell_type": "code",
   "execution_count": 123,
   "metadata": {},
   "outputs": [
    {
     "name": "stdout",
     "output_type": "stream",
     "text": [
      "{ side1: 13, side2: 13, total: 26 }\n",
      "{ side1: 26, side2: 26, total: 52 }\n",
      "{ side1: 13, side2: 13, total: 26 }\n",
      "{ side1: 13, side2: 13, total: 26 }\n",
      "{ side1: 13, side2: 26, total: 39 }\n",
      "{ side1: 26, side2: 39, total: 65 }\n",
      "{ side1: 52, side2: 65, total: 117 }\n"
     ]
    },
    {
     "data": {
      "text/plain": [
       "117"
      ]
     },
     "execution_count": 123,
     "metadata": {},
     "output_type": "execute_result"
    }
   ],
   "source": [
    "// naive solution\n",
    "\n",
    "function minProduct(a, b) {\n",
    "    let bigger = a < b ? b : a;\n",
    "    let smaller = a < b ? a : b;\n",
    "    return minProductHelper(smaller, bigger);\n",
    "}\n",
    "\n",
    "function minProductHelper(smaller, bigger) {\n",
    "    if(smaller === 0) {\n",
    "        return 0;\n",
    "    }\n",
    "    else if (smaller === 1) {\n",
    "        return bigger;\n",
    "    }\n",
    "    \n",
    "    let s = smaller >> 1; // divide by 2\n",
    "    let side1 = minProduct(s, bigger);\n",
    "    let side2 = side1;\n",
    "    if(smaller % 2 === 1) {\n",
    "        side2 = minProductHelper(smaller - s, bigger);\n",
    "    }\n",
    "    \n",
    "    console.log({side1, side2, total: side1 + side2})\n",
    "    return side1 + side2;\n",
    "}\n",
    "\n",
    "minProduct(13, 9)"
   ]
  },
  {
   "cell_type": "code",
   "execution_count": 115,
   "metadata": {},
   "outputs": [
    {
     "data": {
      "text/plain": [
       "117"
      ]
     },
     "execution_count": 115,
     "metadata": {},
     "output_type": "execute_result"
    }
   ],
   "source": [
    "// memoized solution\n",
    "\n",
    "function minProductMemo(a, b) {\n",
    "    let bigger = a < b ? b : a;\n",
    "    let smaller = a < b ? a : b;\n",
    "    let memo = [];\n",
    "    return minProductHelperMemo(smaller, bigger, memo);\n",
    "}\n",
    "\n",
    "function minProductHelperMemo(smaller, bigger, memo) {\n",
    "    if(smaller === 0) {\n",
    "        return 0;\n",
    "    }\n",
    "    else if (smaller === 1) {\n",
    "        return bigger;\n",
    "    }\n",
    "    else if (memo[smaller]) {\n",
    "        return memo[smaller];\n",
    "    }\n",
    "    \n",
    "    let s = smaller >> 1; // divide by 2\n",
    "    let side1 = minProductMemo(s, bigger, memo);\n",
    "    let side2 = side1;\n",
    "    if(smaller % 2 === 1) {\n",
    "        side2 = minProductHelperMemo(smaller - s, bigger, memo);\n",
    "    }\n",
    "    \n",
    "    memo[smaller] = side1 + side2;\n",
    "    return memo[smaller];\n",
    "}\n",
    "\n",
    "minProductMemo(13, 9)"
   ]
  },
  {
   "cell_type": "code",
   "execution_count": 117,
   "metadata": {},
   "outputs": [
    {
     "data": {
      "text/plain": [
       "117"
      ]
     },
     "execution_count": 117,
     "metadata": {},
     "output_type": "execute_result"
    }
   ],
   "source": [
    "// faster solution\n",
    "\n",
    "// naive solution\n",
    "\n",
    "function minProduct2(a, b) {\n",
    "    let bigger = a < b ? b : a;\n",
    "    let smaller = a < b ? a : b;\n",
    "    return minProductHelper2(smaller, bigger);\n",
    "}\n",
    "\n",
    "function minProductHelper2(smaller, bigger) {\n",
    "    if(smaller === 0) {\n",
    "        return 0;\n",
    "    }\n",
    "    else if (smaller === 1) {\n",
    "        return bigger;\n",
    "    }\n",
    "    \n",
    "    let s = smaller >> 1;\n",
    "    let halfProd = minProductHelper2(s, bigger);\n",
    "    \n",
    "    if(smaller % 2 === 0) {\n",
    "        return halfProd + halfProd;\n",
    "    }\n",
    "    else {\n",
    "        return halfProd + halfProd + bigger;\n",
    "    }\n",
    "}\n",
    "\n",
    "minProduct2(13, 9)"
   ]
  },
  {
   "cell_type": "markdown",
   "metadata": {},
   "source": [
    "## 8.6 Towers of Hanoi"
   ]
  },
  {
   "cell_type": "code",
   "execution_count": 9,
   "metadata": {},
   "outputs": [
    {
     "name": "stdout",
     "output_type": "stream",
     "text": [
      "{ before: [ [ 4, 3, 2, 1 ], [], [] ] }\n",
      "[ [], [], [ 4, 3, 2, 1 ] ]\n"
     ]
    }
   ],
   "source": [
    "class Towers {\n",
    "    constructor(n) {\n",
    "        this.towers = [ [], [], [] ];\n",
    "    }\n",
    "    \n",
    "    solve(n) {\n",
    "        for(let i = n; i > 0; i--) {\n",
    "            this.towers[0].push(i);\n",
    "        }\n",
    "        console.log({before: this.towers})\n",
    "        this.moveTo(n, this.towers[0], this.towers[1], this.towers[2]);\n",
    "    }\n",
    "    \n",
    "    moveTo(n, origin, buffer, destination) {\n",
    "        if(n > 0) {\n",
    "            this.moveTo(n - 1, origin, destination, buffer);\n",
    "            this.moveTop(origin, destination);\n",
    "            this.moveTo(n - 1, buffer, origin, destination);\n",
    "        }\n",
    "    }\n",
    "    \n",
    "    moveTop(origin, destination) {\n",
    "        destination.push(origin.pop());\n",
    "    }\n",
    "}\n",
    "\n",
    "var hanoi = new Towers();\n",
    "hanoi.solve(4);\n",
    "console.log(hanoi.towers)"
   ]
  },
  {
   "cell_type": "markdown",
   "metadata": {},
   "source": [
    "### Book Solutions:\n",
    "* __BASE CASE AND BUILD APPROACH__\n",
    "* cases:\n",
    "    - n = 1: move Disk 1 from Tower 1 to Tower 3\n",
    "    - n = 2: \n",
    "        1. move D1: T1 --> T2\n",
    "        2. move D2: T1 --> T3\n",
    "        3. move D1 from T2 --> T3\n",
    "    - n = 3:\n",
    "        1. move top 2: T1 --> T2\n",
    "        2. move D3: T1 --> T3\n",
    "        3. move top 2: T2 --> T3\n",
    "    - n = 3:\n",
    "        1. move top 3: T1 --> T2\n",
    "        2. move D4: T1 --> T3\n",
    "        3. move top 3: T2 --> T3\n",
    "* essentially, you know that you can move (n - 1) disks to a buffer, then move the last disk to the last tower, then move the rest to the last tower\n",
    "***\n",
    "pseudo code:\n",
    "\n",
    "moveDisks(n, origin, destination buffer)\n",
    "\n",
    "    if (n <= 0) return\n",
    "    \n",
    "        // move top n - 1 disks from tower 1 to tower 2\n",
    "        moveDisks(n - 1, origin, buffer, destination)\n",
    "        \n",
    "        // then move the nth disk from the tower 1 to tower 3\n",
    "        moveTop(origin, destination)\n",
    "        \n",
    "        // then move the top n - 1 disks from tower 2 to tower 3\n",
    "        moveDisks(n - 1, buffer, destination origin)"
   ]
  },
  {
   "cell_type": "markdown",
   "metadata": {},
   "source": [
    "## 8.7 Permutations without Dups:"
   ]
  },
  {
   "cell_type": "code",
   "execution_count": 205,
   "metadata": {},
   "outputs": [
    {
     "name": "stdout",
     "output_type": "stream",
     "text": [
      "{\n",
      "  perms: [\n",
      "    'abcd', 'bacd', 'bcad',\n",
      "    'bcda', 'acbd', 'cabd',\n",
      "    'cbad', 'cbda', 'acdb',\n",
      "    'cadb', 'cdab', 'cdba',\n",
      "    'abdc', 'badc', 'bdac',\n",
      "    'bdca', 'adbc', 'dabc',\n",
      "    'dbac', 'dbca', 'adcb',\n",
      "    'dacb', 'dcab', 'dcba'\n",
      "  ],\n",
      "  len: 24\n",
      "}\n"
     ]
    }
   ],
   "source": [
    "function permUnique(str, perms = []) {\n",
    "    // base case\n",
    "    if(str === \"\") {\n",
    "        perms.push('');\n",
    "        return perms;\n",
    "    }\n",
    "    \n",
    "    // get list of perms for single letter, then double letters, etc\n",
    "    else {\n",
    "        perms = permUnique(str.slice(1), perms);\n",
    "        let newPerms = [];\n",
    "        let first = str[0];\n",
    "        \n",
    "        // for every permutation in the list\n",
    "        // put the current letter into the permutation at all positions\n",
    "        // for example: 'a' + ['bc'] = 'abc', 'bac', 'bca'\n",
    "        for(let i = 0; i < perms.length; i++) {\n",
    "            let word = perms[i];\n",
    "            for(let j = 0; j <= word.length; j++) {\n",
    "                let newWord = spliceLetter(word, j, first);\n",
    "                newPerms.push(newWord);\n",
    "            }\n",
    "        }\n",
    "        return newPerms;\n",
    "    }\n",
    "}\n",
    "\n",
    "function spliceLetter(word, index, letter) {\n",
    "    word = word.split('');\n",
    "    word.splice(index, 0, letter);\n",
    "    word = word.join('');\n",
    "    return word;\n",
    "}\n",
    "\n",
    "var perms = permUnique('abcd');\n",
    "console.log({\n",
    "    perms,\n",
    "    len: perms.length\n",
    "})"
   ]
  },
  {
   "cell_type": "markdown",
   "metadata": {},
   "source": [
    "### Book Solutions\n",
    "* O(n$^{2}$ * n!)\n",
    "* __BASE CASE AND BUILD APPROACH__\n",
    "* Approach 1: (exactly the same as my approach)\n",
    "    1. if given, a string a1,a2,a3, we would first create permutations of a1\n",
    "    2. then for each permutation of a1, we would put in a2 in all possible locations of the string\n",
    "    3. then for all permutations of a1a2, we would then put a3 into all possible locations of the string\n",
    "    4. so essentially: perm(a1,a2,a3) => a1 + perm(a2, a3) => a2 + perm(a3) => a3 + perm(''), where perm('') = ''\n",
    "***\n",
    "ex:\n",
    "\n",
    "'' => 'a' => 'ab', 'ba' => 'cab', 'acb', 'abc', 'cba', 'bca', 'bac'"
   ]
  },
  {
   "cell_type": "markdown",
   "metadata": {},
   "source": [
    "## 8.8 Permutations with Dups\n",
    "* Write a method to compute all permutations of a string whose characters are not necessarily unique. The list of permutations should not have duplicates."
   ]
  },
  {
   "cell_type": "code",
   "execution_count": 258,
   "metadata": {},
   "outputs": [
    {
     "name": "stdout",
     "output_type": "stream",
     "text": [
      "{\n",
      "  perms: [\n",
      "    'aabc', 'abac',\n",
      "    'abca', 'baac',\n",
      "    'baca', 'bcaa',\n",
      "    'aacb', 'acab',\n",
      "    'acba', 'caab',\n",
      "    'caba', 'cbaa'\n",
      "  ],\n",
      "  len: 12\n",
      "}\n"
     ]
    }
   ],
   "source": [
    "function permDups(str) {\n",
    "    let dups = {}; // hash table of duplicate permutations\n",
    "    let perms = [];\n",
    "    // also keeps track of the original string's length\n",
    "    return _permDups(str, str.length, dups, perms);\n",
    "}\n",
    "\n",
    "function _permDups(str, len, dups, perms) {\n",
    "    if(str === \"\") {\n",
    "        perms.push('');\n",
    "        return perms;\n",
    "    }\n",
    "    \n",
    "    else {\n",
    "        perms = _permDups(str.slice(1), len, dups, perms);\n",
    "        let newPerms = [];\n",
    "        let first = str[0];\n",
    "        \n",
    "        for(let i = 0; i < perms.length; i++) {\n",
    "            let word = perms[i];\n",
    "                for(let j = 0; j <= word.length; j++) {\n",
    "                    let newWord = spliceLetter(word, j, first);\n",
    "                    // if the newWord is not a duplicate,\n",
    "                    // add it to the newPerms list\n",
    "                    if( dups[newWord] === undefined ) {\n",
    "                        newPerms.push(newWord);\n",
    "                    }\n",
    "                    // if the new word is a permutation\n",
    "                    // add it to the dups table\n",
    "                    if(newWord.length === len) {\n",
    "                        dups[newWord] = true;\n",
    "                    }\n",
    "                } \n",
    "        }\n",
    "        return newPerms;\n",
    "    }\n",
    "}\n",
    "\n",
    "function spliceLetter(word, index, letter) {\n",
    "    word = word.split('');\n",
    "    word.splice(index, 0, letter);\n",
    "    word = word.join('');\n",
    "    return word;\n",
    "}\n",
    "\n",
    "var perms = permDups('aabc');\n",
    "console.log({\n",
    "    perms,\n",
    "    len: perms.length\n",
    "})"
   ]
  },
  {
   "cell_type": "markdown",
   "metadata": {},
   "source": [
    "### Book Solutions:\n",
    "* this approach is O(n!)\n",
    "* Approach 1: exactly the same as my approach\n",
    "    1. keep track of the length of the original string\n",
    "    2. if the length matches the permutation's length, add it to the hash table\n",
    "    3. then if we see that same word again, skip it\n",
    "* Approach 2: can't get any faster than O(n!) BUT WILL BE FASTER ON AVERAGE for things like 'aaaaaaaaaaaaaaaaaa'\n",
    "    1. count the number of occurrences of each letter in the string\n",
    "    2. then decide to use one of these letters as the first string and the remainder will be recursed on\n",
    "        - so if we have 'aabc', we pick 'c' as our first, then we do permsDup('aab')\n",
    "        - then we choose 'a' as our first, then recurse for permsDup('ab');\n",
    "        - and so on and so forth until we have no chars left"
   ]
  },
  {
   "cell_type": "code",
   "execution_count": 261,
   "metadata": {},
   "outputs": [
    {
     "name": "stdout",
     "output_type": "stream",
     "text": [
      "[\n",
      "  'aabc', 'aacb',\n",
      "  'abac', 'abca',\n",
      "  'acab', 'acba',\n",
      "  'baac', 'baca',\n",
      "  'bcaa', 'caab',\n",
      "  'caba', 'cbaa'\n",
      "]\n"
     ]
    }
   ],
   "source": [
    "// approach 2\n",
    "// about 80% faster on avg\n",
    "\n",
    "function printPerms(str) {\n",
    "    let result = [];\n",
    "    let map = buildFreqTable(str);\n",
    "    _printPerms(map, '', str.length, result);\n",
    "    return result;\n",
    "}\n",
    "\n",
    "function buildFreqTable(str) {\n",
    "    let map = {};\n",
    "    for(let i = 0; i < str.length; i++) {\n",
    "        let char = str[i];\n",
    "        if(map[char] === undefined) {\n",
    "            map[char] = 1;\n",
    "        }\n",
    "        else {\n",
    "            map[char]++;\n",
    "        }\n",
    "    }\n",
    "    return map;\n",
    "}\n",
    "\n",
    "function _printPerms(map, prefix, remaining, result) {\n",
    "    // base case where perms are completed\n",
    "    if(remaining === 0) {\n",
    "        result.push(prefix);\n",
    "        return;\n",
    "    }\n",
    "    \n",
    "    // try remaining letters for next char, and generate remaining permutations\n",
    "    \n",
    "    // for every char in the map\n",
    "    // if the char's count > 0, then then push it to\n",
    "    for(let char in map) {\n",
    "        let count = map[char];\n",
    "        if(count > 0) {\n",
    "            map[char]--;\n",
    "            _printPerms(map, prefix + char, remaining - 1, result);\n",
    "            map[char]++;\n",
    "        }\n",
    "    }\n",
    "}\n",
    "\n",
    "console.log(printPerms('aabc'));"
   ]
  },
  {
   "cell_type": "markdown",
   "metadata": {},
   "source": [
    "## 8.9 Parens"
   ]
  },
  {
   "cell_type": "code",
   "execution_count": 33,
   "metadata": {},
   "outputs": [
    {
     "data": {
      "text/plain": [
       "[ '(', '(undefined' ]"
      ]
     },
     "execution_count": 33,
     "metadata": {},
     "output_type": "execute_result"
    }
   ],
   "source": [
    "function parens(n) {\n",
    "    let combos = [];\n",
    "    let dups = {};\n",
    "    return _parens(n, n, n, combos);\n",
    "}\n",
    "\n",
    "function _parens(n, l, r, combos) {\n",
    "    if(n === 0) {\n",
    "        combos.push('');\n",
    "        return combos;\n",
    "    }\n",
    "    else {\n",
    "        let newCombos = [];\n",
    "        if(l <= r) {\n",
    "            combos = _parens(n - 1, l - 1, r, combos);\n",
    "        }\n",
    "        else {\n",
    "            combos = _parens(n - 1, l, r - 1, combos);\n",
    "        }\n",
    "        \n",
    "        for(let i = 0; i <= combos.length; i++) {\n",
    "            let combo = combos[i];\n",
    "            if(l <= r) {\n",
    "                newCombos.push('(' + combo);\n",
    "            }\n",
    "            else {\n",
    "                newCombos.push(')' + combo);\n",
    "            }\n",
    "        }\n",
    "        return newCombos;\n",
    "    }\n",
    "}\n",
    "\n",
    "parens(1)"
   ]
  },
  {
   "cell_type": "markdown",
   "metadata": {},
   "source": [
    "### Book Solutions:\n",
    "* Approach 1: works but not very efficient\n",
    "    1. if n = 0, add '' to the array\n",
    "    2. then for subsequent cases, we want to add () inside each parentheses and at the beginning of the string   \n",
    "***\n",
    "* Approach 2: builds string from scratch\n",
    "    1. we keep track of the number of left and right parentheses\n",
    "    2. as long as there are still left parentheses, we can also insert it\n",
    "    3. we can insert a right parenthesis if doesn't lead to a syntax error.\n",
    "        - this happens when # left < # right when we want to insert a right parenthesis\n",
    "    4. after inserting a parenthesis, we recurse "
   ]
  },
  {
   "cell_type": "code",
   "execution_count": 55,
   "metadata": {},
   "outputs": [
    {
     "data": {
      "text/plain": [
       "Set(5) { '(()())', '((()))', '()(())', '(())()', '()()()' }"
      ]
     },
     "execution_count": 55,
     "metadata": {},
     "output_type": "execute_result"
    }
   ],
   "source": [
    "// approach 1\n",
    "\n",
    "function generateParens(remaining) {\n",
    "    let set = new Set();\n",
    "    \n",
    "    if(remaining === 0) {\n",
    "        set.add('');\n",
    "    }\n",
    "    else {\n",
    "        let prev = generateParens(remaining - 1);\n",
    "        for(let str of prev) {\n",
    "            for(let i = 0; i < str.length; i++) {\n",
    "                if( str[i] === '(' ) {\n",
    "                    let s = insertInside(str, i);\n",
    "                    set.add(s);\n",
    "                }\n",
    "            }\n",
    "            set.add('()' + str);\n",
    "        }\n",
    "    }\n",
    "    return set;\n",
    "}\n",
    "\n",
    "function insertInside(str, i) {\n",
    "    let newStr = str.split('');\n",
    "    newStr.splice(i + 1, 0, '()');\n",
    "    newStr = newStr.join('');\n",
    "    return newStr;\n",
    "}\n",
    "\n",
    "generateParens(3);"
   ]
  },
  {
   "cell_type": "code",
   "execution_count": 62,
   "metadata": {},
   "outputs": [
    {
     "data": {
      "text/plain": [
       "[ '((()))', '(()())', '(())()', '()(())', '()()()' ]"
      ]
     },
     "execution_count": 62,
     "metadata": {},
     "output_type": "execute_result"
    }
   ],
   "source": [
    "// approach 2\n",
    "// faster\n",
    "function generateParens2(n) {\n",
    "    let str = [];\n",
    "    let list = [];\n",
    "    addParen(list, n, n, str, 0);\n",
    "    return list;\n",
    "}\n",
    "\n",
    "\n",
    "\n",
    "function addParen(list, leftRem, rightRem, str, index) {\n",
    "    // invalid state\n",
    "    if(leftRem < 0 || rightRem < leftRem) {\n",
    "        return;\n",
    "    }\n",
    "    \n",
    "    // base case\n",
    "    // if both are at zero, then join the array together back into a string\n",
    "    if(leftRem === 0 && rightRem === 0) {\n",
    "        list.push(str.join(''))\n",
    "    }\n",
    "    else {\n",
    "        str[index] = '('; // add left and recurse\n",
    "        addParen(list, leftRem - 1, rightRem, str, index + 1);\n",
    "        \n",
    "        str[index] = ')'; // add right and recurse\n",
    "        addParen(list, leftRem, rightRem - 1, str, index + 1);\n",
    "    }\n",
    "}\n",
    "\n",
    "generateParens2(3);"
   ]
  },
  {
   "cell_type": "markdown",
   "metadata": {},
   "source": [
    "## 8.10 Paint Fill"
   ]
  },
  {
   "cell_type": "code",
   "execution_count": 105,
   "metadata": {},
   "outputs": [
    {
     "data": {
      "text/plain": [
       "[\n",
       "  [\n",
       "    'black', 'black',\n",
       "    'black', 'black',\n",
       "    'black', 'black',\n",
       "    'black'\n",
       "  ],\n",
       "  [\n",
       "    'black', 'black',\n",
       "    'black', 'black',\n",
       "    'black', 'black',\n",
       "    'black'\n",
       "  ],\n",
       "  [\n",
       "    'black', 'black',\n",
       "    'black', 'black',\n",
       "    'black', 'black',\n",
       "    'black'\n",
       "  ],\n",
       "  [\n",
       "    'black', 'black',\n",
       "    'black', 'black',\n",
       "    'black', 'black',\n",
       "    'black'\n",
       "  ],\n",
       "  [\n",
       "    'black', 'black',\n",
       "    'black', 'black',\n",
       "    'black', 'black',\n",
       "    'black'\n",
       "  ]\n",
       "]"
      ]
     },
     "execution_count": 105,
     "metadata": {},
     "output_type": "execute_result"
    }
   ],
   "source": [
    "function fill(screen, row, col, color, memo) {\n",
    "    if(row < 0 || row >= screen.length || col < 0 || col >= screen[0].length) {\n",
    "        return;\n",
    "    }\n",
    "    if(memo[`${row}${col}`]) {\n",
    "        return;\n",
    "    }\n",
    "    else {\n",
    "        screen[row][col] = color;\n",
    "        memo[`${row}${col}`] = true;\n",
    "        fill(screen, row - 1, col, color, memo); // north\n",
    "        fill(screen, row, col - 1, color, memo); // west\n",
    "        fill(screen, row + 1, col, color, memo); // south\n",
    "        fill(screen, row, col + 1, color, memo); // east\n",
    "        return screen;\n",
    "    }\n",
    "}\n",
    "\n",
    "var screen = [\n",
    "    ['red', 'orange', 'yellow', 'green', 'blue', 'indigo', 'violet'],\n",
    "    ['red', 'orange', 'yellow', 'green', 'blue', 'indigo', 'violet'],\n",
    "    ['red', 'orange', 'yellow', 'green', 'blue', 'indigo', 'violet'],\n",
    "    ['red', 'orange', 'yellow', 'green', 'blue', 'indigo', 'violet'],\n",
    "    ['red', 'orange', 'yellow', 'green', 'blue', 'indigo', 'violet']\n",
    "];\n",
    "\n",
    "fill(screen, 3, 2, 'black', {});"
   ]
  },
  {
   "cell_type": "markdown",
   "metadata": {},
   "source": [
    "### Book Solutions:\n",
    "* exactly the same as my solution\n",
    "* is essentially depth-first search for graphs but applied to a 2D array\n",
    "* the algorithm will go as deep as it can and then backtrack and move to another branch until everything has been colored in"
   ]
  },
  {
   "cell_type": "markdown",
   "metadata": {},
   "source": [
    "## 8.11 Coins\n",
    "* my solution is overcounting!!!\n",
    "    - for example, when we have n = 10, we have 4 ways of counting it:\n",
    "        1. 1 dime\n",
    "        2. 2 nickles\n",
    "        3. 1 nickle, 5 pennies\n",
    "        4. 10 pennies\n",
    "    - with my algorithm, it incorrectly gets 9 ways"
   ]
  },
  {
   "cell_type": "code",
   "execution_count": 69,
   "metadata": {},
   "outputs": [
    {
     "data": {
      "text/plain": [
       "9"
      ]
     },
     "execution_count": 69,
     "metadata": {},
     "output_type": "execute_result"
    }
   ],
   "source": [
    "// naive recursive algorithm\n",
    "// overcounts\n",
    "\n",
    "function coins(n) {\n",
    "    return _coins(n, 0);\n",
    "}\n",
    "\n",
    "function _coins(n, ways) {\n",
    "    if(n === 0) {\n",
    "        ways++;\n",
    "        return ways;\n",
    "    }\n",
    "    else if (n < 0) {\n",
    "        return ways;\n",
    "    }\n",
    "    else {\n",
    "        ways = _coins(n - 1, ways);\n",
    "        ways = _coins(n - 5, ways);\n",
    "        ways = _coins(n - 10, ways);\n",
    "        ways = _coins(n - 25, ways);\n",
    "        return ways;\n",
    "    }\n",
    "}\n",
    "\n",
    "coins(10);"
   ]
  },
  {
   "cell_type": "code",
   "execution_count": 72,
   "metadata": {},
   "outputs": [
    {
     "name": "stdout",
     "output_type": "stream",
     "text": [
      "9\n",
      "8577828731901\n",
      "3.861031121590131e+132\n"
     ]
    }
   ],
   "source": [
    "// memoized version\n",
    "// overcounts\n",
    "\n",
    "function coinsMemo(n) {\n",
    "    let memo = {};\n",
    "    return _coinsMemo(n, n, 0, memo)\n",
    "}\n",
    "\n",
    "function _coinsMemo(n, current, ways, memo) {\n",
    "    if(memo[current]) {\n",
    "        return ways + memo[current];\n",
    "    }\n",
    "    else if(current === 0) {\n",
    "        ways++;\n",
    "        return ways;\n",
    "    }\n",
    "    else if (current < 0) {\n",
    "        return ways;\n",
    "    }\n",
    "    else {\n",
    "        ways = _coinsMemo(n, current - 1, ways, memo);\n",
    "        ways = _coinsMemo(n, current - 5, ways, memo);\n",
    "        ways = _coinsMemo(n, current - 10, ways, memo);\n",
    "        ways = _coinsMemo(n, current - 25, ways, memo);\n",
    "        memo[current] = ways;\n",
    "    }\n",
    "    return memo[current];\n",
    "}\n",
    "\n",
    "console.log(coinsMemo(10));\n",
    "console.log(coinsMemo(100));\n",
    "console.log(coinsMemo(1000));"
   ]
  },
  {
   "cell_type": "markdown",
   "metadata": {},
   "source": [
    "### Book Solutions\n",
    "* similar approach for fibonacci but also need to consider overcounting as well"
   ]
  },
  {
   "cell_type": "code",
   "execution_count": 104,
   "metadata": {},
   "outputs": [
    {
     "name": "stdout",
     "output_type": "stream",
     "text": [
      "4\n",
      "{\n",
      "  dp: {\n",
      "    '0:1': 1,\n",
      "    '1:1': 1,\n",
      "    '2:1': 1,\n",
      "    '3:1': 1,\n",
      "    '4:1': 1,\n",
      "    '0:5': 1,\n",
      "    '5:1': 2,\n",
      "    '1:5': 0,\n",
      "    '6:1': 2,\n",
      "    '2:5': 0,\n",
      "    '7:1': 2,\n",
      "    '3:5': 0,\n",
      "    '8:1': 2,\n",
      "    '4:5': 0,\n",
      "    '9:1': 2,\n",
      "    '5:5': 1,\n",
      "    '0:10': 1,\n",
      "    '10:1': 4\n",
      "  }\n",
      "}\n",
      "242\n",
      "142511\n"
     ]
    }
   ],
   "source": [
    "var dp = {};\n",
    "\n",
    "function coins(value, currCoin = 1) {\n",
    "    if(value < 0) {\n",
    "        return 0;\n",
    "    }\n",
    "    else {\n",
    "        // this key helps to not overcount the # ways b/c it takes into account the current coin\n",
    "        // rather than the value itself\n",
    "        // \n",
    "        let key = `${value}:${currCoin}`;\n",
    "        if(dp[key] === undefined) {\n",
    "            if(value === 0) {\n",
    "                dp[key] = 1;\n",
    "            }\n",
    "            else {\n",
    "                let ways = 0;\n",
    "                if(currCoin <= 1) {\n",
    "                    ways += coins(value - 1, 1);\n",
    "                }\n",
    "                if(currCoin <= 5) {\n",
    "                    ways += coins(value - 5, 5);\n",
    "                }\n",
    "                if(currCoin <= 10) {\n",
    "                    ways += coins(value - 10, 10);\n",
    "                }\n",
    "                if(currCoin <= 25) {\n",
    "                    ways += coins(value - 25, 25);\n",
    "                }\n",
    "                \n",
    "                dp[key] = ways;\n",
    "            }\n",
    "        }\n",
    "        return dp[key];\n",
    "    }\n",
    "}\n",
    "\n",
    "console.log(coins(10));\n",
    "console.log({dp})\n",
    "console.log(coins(100));\n",
    "console.log(coins(1000));"
   ]
  },
  {
   "cell_type": "markdown",
   "metadata": {},
   "source": [
    "## 8.12 Eight Queens"
   ]
  },
  {
   "cell_type": "code",
   "execution_count": 13,
   "metadata": {},
   "outputs": [
    {
     "name": "stdout",
     "output_type": "stream",
     "text": [
      "[\n",
      "  [\n",
      "    'Q', 'Q', 'Q',\n",
      "    'Q', 'Q', 'Q',\n",
      "    'Q', 'Q'\n",
      "  ],\n",
      "  [],\n",
      "  [],\n",
      "  [],\n",
      "  [],\n",
      "  [],\n",
      "  [],\n",
      "  []\n",
      "]\n"
     ]
    }
   ],
   "source": [
    "function isValidSpot(grid, row, col, queens) {\n",
    "    if(queens === 0) {\n",
    "        return true;\n",
    "    }\n",
    "    else {\n",
    "        for(let r = 0; r < row; r++) {\n",
    "            for(let c = 0; c < 8; c++) {\n",
    "                if(col === c) {\n",
    "                    return false;\n",
    "                }\n",
    "                \n",
    "                let colDistance = Math.abs(c - col);\n",
    "                let rowDistance = row - r;\n",
    "                if(colDistance === rowDistance) {\n",
    "                    return false;\n",
    "                }\n",
    "            }\n",
    "        }\n",
    "        return true;\n",
    "    }\n",
    "}\n",
    "\n",
    "function printQueens() {\n",
    "    for(let r = 0; r < 8; r++) {\n",
    "        let grid = [[], [], [], [], [], [], [], []];\n",
    "        let queens = 0;\n",
    "        for(let c = 0; c < 8; c++) {\n",
    "            if( isValidSpot(grid, r, c, queens) ) {\n",
    "                grid[r][c] = 'Q'; \n",
    "                queens++;\n",
    "            }\n",
    "        }\n",
    "        if(queens === 8) {\n",
    "            console.log(grid);  \n",
    "        }\n",
    "    }\n",
    "}\n",
    "printQueens();"
   ]
  },
  {
   "cell_type": "markdown",
   "metadata": {},
   "source": [
    "### Book Solutions:\n",
    "* solutions:\n",
    "    1. base case if the # rows = grid size (8), then we add the result to the results array;\n",
    "    2. else, we iterate through all possible columns and if it is a valid spot for the queen, we add it to the grid\n",
    "    3. to check the validity, we check each row for whether that spot is in the same column or in the same diagonal"
   ]
  },
  {
   "cell_type": "code",
   "execution_count": 11,
   "metadata": {},
   "outputs": [],
   "source": [
    "var GRID_SIZE = 8;\n",
    "\n",
    "function placeQueens(row, columns, results) {\n",
    "    if(row === GRID_SIZE) {\n",
    "        results.add(columns);\n",
    "    }\n",
    "    else {\n",
    "        for(let col = 0; col < GRID_SIZE; col++) {\n",
    "            if( checkValid(columns, row, col) ) {\n",
    "                columns[row][col]; // place queen;\n",
    "                placeQueens(row + 1, columns, results);\n",
    "            }\n",
    "        }\n",
    "    }\n",
    "}\n",
    "\n",
    "/*\n",
    "    - check if (row1, column1) is a valid spot for a queen by \n",
    "    checking if there is a queen in the same column or diagonal\n",
    "    - don't need to check it for queens in the same row b/c calling \n",
    "    placeQueen only attempts to place one queen at a time\n",
    "*/\n",
    "\n",
    "function checkValid(columns, row1, column1) {\n",
    "    for(let row2 = 0; row2 < row1; row2++) {\n",
    "        let column2 = columns[row2];\n",
    "        \n",
    "        //check if (row2, col2) invalidates (row1, column1) as a queen spot\n",
    "        \n",
    "        // check if rows have a queen in the same column\n",
    "        if(column2 === column1) {\n",
    "            return false;\n",
    "        }\n",
    "        \n",
    "        // check diagonals: if the distance between the columns equals the distance\n",
    "        // between the rows, then they're in the same diagonal\n",
    "        let columnDistance = Math.abs(column2 - column1);\n",
    "        \n",
    "        let rowDistance = row1 - row2;\n",
    "        if(columnDistance === rowDistance) {\n",
    "            return false;\n",
    "        }\n",
    "    }\n",
    "    return true;\n",
    "}"
   ]
  },
  {
   "cell_type": "markdown",
   "metadata": {},
   "source": [
    "## 8.13 Stack of Boxes"
   ]
  },
  {
   "cell_type": "code",
   "execution_count": 65,
   "metadata": {},
   "outputs": [
    {
     "name": "stdout",
     "output_type": "stream",
     "text": [
      "25\n"
     ]
    }
   ],
   "source": [
    "function stackBoxes(boxes, height, previous) {\n",
    "    if(boxes.length === 0) {\n",
    "        return 0;\n",
    "    }\n",
    "    if(previous == null) {\n",
    "        previous = { \n",
    "            height: Number.MAX_VALUE, \n",
    "            width: Number.MAX_VALUE, \n",
    "            depth: Number.MAX_VALUE\n",
    "        };\n",
    "    }\n",
    "    let current = 0;\n",
    "    for(let i = 1; i < boxes.length; i++) {\n",
    "        let newBox = boxes[i];\n",
    "        let currentBox = boxes[current];\n",
    "        if( isLarger(newBox, currentBox) > 1) {\n",
    "            current = i;\n",
    "        }\n",
    "    }\n",
    "    // if the previous Box is larger than the current box in\n",
    "    // all 3 criteria\n",
    "    // then we make it the current Height\n",
    "    let currentHeight = 0;\n",
    "    if( isLarger(previous, boxes[current]) === 3) {\n",
    "        previous = boxes[current];\n",
    "        currentHeight = boxes[current].height;\n",
    "    }\n",
    "    boxes.splice(current, 1);\n",
    "    return currentHeight + stackBoxes(boxes,height, previous);\n",
    "}\n",
    "\n",
    "function isLarger(newBox, oldBox) {\n",
    "    let largeScore = 0;\n",
    "    if(newBox.height > oldBox.height) {\n",
    "        largeScore++;\n",
    "    }\n",
    "    if(newBox.width > oldBox.width) {\n",
    "        largeScore++;\n",
    "    }\n",
    "    if(newBox.depth > oldBox.depth) {\n",
    "        largeScore++;\n",
    "    }\n",
    "    return largeScore;\n",
    "}\n",
    "\n",
    "\n",
    "var boxes = [\n",
    "    {height: 5, width: 6, depth: 7},\n",
    "    {height: 10, width: 21, depth: 16},\n",
    "    {height: 8, width: 18, depth: 9},\n",
    "    {height: 7, width: 11, depth: 5},\n",
    "    {height: 7, width: 12, depth: 4},\n",
    "    {height: 7, width: 11, depth: 4},\n",
    "    {height: 9, width: 11, depth: 4}\n",
    "];\n",
    "\n",
    "console.log(stackBoxes(boxes, 0));"
   ]
  },
  {
   "cell_type": "markdown",
   "metadata": {},
   "source": [
    "### Book Solutions:"
   ]
  },
  {
   "cell_type": "code",
   "execution_count": null,
   "metadata": {},
   "outputs": [],
   "source": []
  },
  {
   "cell_type": "code",
   "execution_count": null,
   "metadata": {},
   "outputs": [],
   "source": []
  },
  {
   "cell_type": "markdown",
   "metadata": {},
   "source": [
    "# Summary:\n",
    "* always figure out how to do it the naive, recursive way first\n",
    "    - then once you have that, you can optimize it further by memoizing it, i.e. keeping previous answers in a hash table to look up later\n",
    "* __IF YOU ARE STUCK ON A PROBLEM, ALWAYS DO THE BASE-CASE AND BUILD APPROACH__\n",
    "    - once you have a base case for n = 0, n = 1, n = 2, n = 3, etc, then you can start to see a pattern\n",
    "    - an n=4 solution will depend on a modified n = 3 solution and so on\n",
    "    - then just write out some pseudo code for the general structure of the algorithm and the steps you want to accomplish\n",
    "    - your base case will help you\n",
    "* if a problem talks about arrays being sorted or unsorted, __ALWAYS THINK ABOUT BINARY SEARCH__\n",
    "    - you could possibly modify the original binary search algorithm to solve the entire problem\n",
    "    - if not, it could still help you think about breaking up the problem recursively\n",
    "* if a problem talks about finding n-ways of representing an n-value, __ALWAYS THINK ABOUT FIBONACCI__\n",
    "    - recursive calls will be func (n - some value, ways)\n",
    "    - then to optimize it, you would always have a table, memo {}, that keeps already solved values that can then be returned for subsequent calls\n",
    "* __ALWAYS GO WITH YOUR INSTINCT AND TRUST THE PROCESS!!!!!!__\n",
    "    - recursion can be tricky\n",
    "    - sometimes, you just gotta trust that it works magically"
   ]
  },
  {
   "cell_type": "code",
   "execution_count": null,
   "metadata": {},
   "outputs": [],
   "source": []
  }
 ],
 "metadata": {
  "kernelspec": {
   "display_name": "Javascript (Node.js)",
   "language": "javascript",
   "name": "javascript"
  },
  "language_info": {
   "file_extension": ".js",
   "mimetype": "application/javascript",
   "name": "javascript",
   "version": "13.12.0"
  }
 },
 "nbformat": 4,
 "nbformat_minor": 2
}
