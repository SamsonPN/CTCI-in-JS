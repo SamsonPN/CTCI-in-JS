{
 "cells": [
  {
   "cell_type": "markdown",
   "metadata": {},
   "source": [
    "## 10.1 Sorted Merge"
   ]
  },
  {
   "cell_type": "code",
   "execution_count": 20,
   "metadata": {},
   "outputs": [
    {
     "name": "stdout",
     "output_type": "stream",
     "text": [
      "[\n",
      "   5,  8, 13, 14, 16, 17, 28,\n",
      "  37, 45, 47, 48, 49, 51, 52,\n",
      "  54, 56, 61, 63, 74, 77\n",
      "]\n"
     ]
    }
   ],
   "source": [
    "function sortedMerge(A, B) {\n",
    "    let a = A.length - 1;\n",
    "    let b = B.length - 1;\n",
    "    let z = A.length + B.length - 1;\n",
    "    \n",
    "    while(a >= 0 && b >= 0 && z >= 0) {\n",
    "        if(A[a] >= B[b]) {\n",
    "            A[z] = A[a];\n",
    "            a--;\n",
    "        }\n",
    "        else {\n",
    "            A[z] = B[b];\n",
    "            b--;\n",
    "        }\n",
    "        z--;\n",
    "    }\n",
    "    \n",
    "    // if we already went through all of B\n",
    "    // and A is the only one left\n",
    "    while(a > 0) {\n",
    "        A[z] = A[a];\n",
    "        a--;\n",
    "        z--;  \n",
    "    }\n",
    "    \n",
    "    // if we already went through all of A\n",
    "    // and B is the only one left\n",
    "    while(b >= 0) {\n",
    "        A[z] = B[b];\n",
    "        b--;\n",
    "        z--;\n",
    "    }\n",
    "    \n",
    "    return A;\n",
    "}\n",
    "\n",
    "var a = [5, 13, 17, 28, 37, 48, 49, 61, 63, 74];\n",
    "var b = [8, 14, 16, 45, 47, 51, 52, 54, 56, 77];\n",
    "// [5, 8, 13, 14, 16, 17, 28, 37, 45, 47, 48, 49, 51, 52, 54, 56, 61, 63, 74, 77];\n",
    "console.log(sortedMerge(a, b));"
   ]
  },
  {
   "cell_type": "markdown",
   "metadata": {},
   "source": [
    "### Book Solutions:"
   ]
  },
  {
   "cell_type": "code",
   "execution_count": null,
   "metadata": {},
   "outputs": [],
   "source": []
  },
  {
   "cell_type": "markdown",
   "metadata": {},
   "source": [
    "## 10.2 Group Anagrams"
   ]
  },
  {
   "cell_type": "code",
   "execution_count": 40,
   "metadata": {},
   "outputs": [
    {
     "data": {
      "text/plain": [
       "[\n",
       "  'nose',  'seon',\n",
       "  'eyes',  'seye',\n",
       "  'ye es', 'ears',\n",
       "  'sear',  'random'\n",
       "]"
      ]
     },
     "execution_count": 40,
     "metadata": {},
     "output_type": "execute_result"
    }
   ],
   "source": [
    "function groupAnagrams(arr) {\n",
    "    let anagrams = {};\n",
    "    arr.forEach(str => {\n",
    "        // sorts the string then trims any white space\n",
    "        let sorted = str.split('').sort().join('').trim();\n",
    "        if(anagrams[sorted] === undefined) {\n",
    "            anagrams[sorted] = [];\n",
    "        }\n",
    "        anagrams[sorted].push(str);\n",
    "    })\n",
    "    \n",
    "    let grouped = [];\n",
    "    \n",
    "    for(let sorted in anagrams) {\n",
    "        grouped = grouped.concat(anagrams[sorted]);\n",
    "    }\n",
    "    \n",
    "    return grouped;\n",
    "}\n",
    "\n",
    "var arr = ['nose', 'eyes', 'ears', 'seon', 'sear', 'seye', 'random', 'ye es'];\n",
    "groupAnagrams(arr);"
   ]
  },
  {
   "cell_type": "markdown",
   "metadata": {},
   "source": [
    "### Book Solutions:"
   ]
  },
  {
   "cell_type": "code",
   "execution_count": null,
   "metadata": {},
   "outputs": [],
   "source": []
  },
  {
   "cell_type": "markdown",
   "metadata": {},
   "source": [
    "## 10.3 Search in Rotated Array:\n",
    "* doesn't solve edge case where smallest number is at the end of the list"
   ]
  },
  {
   "cell_type": "code",
   "execution_count": 44,
   "metadata": {},
   "outputs": [
    {
     "name": "stdout",
     "output_type": "stream",
     "text": [
      "8\n",
      "{ mid: 5, start: 0, end: 11 }\n",
      "{ mid: 8, start: 6, end: 11 }\n",
      "8\n"
     ]
    }
   ],
   "source": [
    "function binarySearch(arr, item) {\n",
    "    return _binarySearch(item, arr, 0, arr.length - 1);\n",
    "}\n",
    "\n",
    "function _binarySearch(item, arr, start, end) {\n",
    "    let mid = Math.trunc(start + ((end - start) / 2));\n",
    "    \n",
    "    if(end < start) {\n",
    "        return -1;\n",
    "    }\n",
    "    if (arr[mid] === item) {\n",
    "        return mid;\n",
    "    }\n",
    "    else if(arr[mid] > item) {\n",
    "        return _binarySearch(item, arr, start, mid - 1);\n",
    "    }\n",
    "    else {\n",
    "        return _binarySearch(item, arr, mid + 1, end);\n",
    "    }\n",
    "}\n",
    "\n",
    "function rotatedBinarySearch(arr, item) {\n",
    "    return _rotatedBinarySearch(item, arr, 0, arr.length - 1);\n",
    "}\n",
    "\n",
    "function _rotatedBinarySearch(item, arr, start, end) {\n",
    "    let mid = Math.trunc(start +((end - start) / 2));\n",
    "    console.log({mid, start, end})\n",
    "    if(end < start) {\n",
    "        return -1;\n",
    "    }\n",
    "    if(arr[mid] === item) {\n",
    "        return mid;\n",
    "    }\n",
    "    else if(arr[mid] <= item && item <= arr[end]) {\n",
    "        return _rotatedBinarySearch(item, arr, mid + 1, end);\n",
    "    }\n",
    "    else if(arr[start] <= item && item <= arr[mid - 1]) {\n",
    "        return _rotatedBinarySearch(item, arr, start, mid - 1);\n",
    "    }\n",
    "}\n",
    "\n",
    "var input = [15, 16, 19, 20, 25, 1, 3, 4, 5, 7, 10, 14];\n",
    "console.log(binarySearch(input, 5));\n",
    "console.log(rotatedBinarySearch(input, 5));"
   ]
  },
  {
   "cell_type": "markdown",
   "metadata": {},
   "source": [
    "### Book Solutions:"
   ]
  },
  {
   "cell_type": "code",
   "execution_count": null,
   "metadata": {},
   "outputs": [],
   "source": []
  },
  {
   "cell_type": "markdown",
   "metadata": {},
   "source": [
    "## 10.4 Sorted Search, No Size"
   ]
  },
  {
   "cell_type": "code",
   "execution_count": 61,
   "metadata": {},
   "outputs": [
    {
     "name": "stdout",
     "output_type": "stream",
     "text": [
      "{ counter: 3, index: 9 }\n",
      "9\n",
      "\n",
      "\n",
      "Binary Search result for index: 77\n",
      "\n",
      "\n",
      "{ counter: 23, index: 99 }\n",
      "77\n",
      "{ counter: 252, index: 999 }\n",
      "777\n",
      "{ counter: 916, index: 9999 }\n",
      "7777\n"
     ]
    }
   ],
   "source": [
    "function getEnd(arr, item) {\n",
    "    let found = false;\n",
    "    let index = 2;\n",
    "    let counter = 0;\n",
    "    while(!found) {\n",
    "        counter++;\n",
    "        if(arr[index + index] !== undefined) {\n",
    "            index += index;\n",
    "        }\n",
    "        index += 2;\n",
    "        if(arr[index] === undefined) {\n",
    "            index--;\n",
    "            found = true;\n",
    "        }\n",
    "    }\n",
    "    console.log({counter, index})\n",
    "    return index;\n",
    "}\n",
    "\n",
    "function sortedSearch(arr, item) {\n",
    "    let end = getEnd(arr, item);\n",
    "    return end === -1 ? end : _sortedSearch(arr, item, 0, end);\n",
    "}\n",
    "\n",
    "function _sortedSearch(arr, item, start, end) {\n",
    "    let mid = Math.trunc( start + ((end - start) / 2));\n",
    "    if(end < start) {\n",
    "        return -1;\n",
    "    }\n",
    "    if(arr[mid] === item) {\n",
    "        return mid;\n",
    "    }\n",
    "    else if(arr[mid] > item) {\n",
    "        return _sortedSearch(arr, item, start, mid - 1);\n",
    "    }\n",
    "    else {\n",
    "        return _sortedSearch(arr, item, mid + 1, end);\n",
    "    }\n",
    "}\n",
    "\n",
    "var listy = [1, 3, 5, 6, 10, 12, 24, 67, 83, 100];\n",
    "console.log(sortedSearch(listy, 100))\n",
    "console.log('\\n');\n",
    "\n",
    "var long_listy = [2, 12, 32, 41, 64, 78, 82, 87, 90, 97, 108, 117, 123, 141, 150, 154, 162, 172, 173, 199, 201, 240, 248, 254, 258, 264, 269, 271, 281, 291, 294, 295, 321, 322, 333, 362, 363, 366, 381, 405, 409, 412, 415, 427, 435, 461, 464, 467, 471, 505, 516, 531, 552, 563, 565, 571, 582, 584, 602, 610, 620, 629, 631, 641, 644, 646, 662, 671, 688, 691, 718, 740, 750, 753, 764, 767, 779, 787, 801, 812, 838, 843, 846, 854, 858, 861, 865, 891, 894, 926, 955, 961, 962, 973, 977, 981, 992, 993, 997, 1000];\n",
    "console.log(`Binary Search result for index: ${binarySearch(long_listy, 787)}`);\n",
    "console.log('\\n');\n",
    "console.log(sortedSearch(long_listy, 787));\n",
    "\n",
    "var longer_listy = Array.from( {length: 1000}, (el, i) => i);\n",
    "console.log(sortedSearch(longer_listy, 777));\n",
    "\n",
    "var longest_listy = Array.from({ length: 10000}, (el, i) => i);\n",
    "console.log(sortedSearch(longest_listy, 7777));"
   ]
  },
  {
   "cell_type": "markdown",
   "metadata": {},
   "source": [
    "### Book Solutions:"
   ]
  },
  {
   "cell_type": "code",
   "execution_count": null,
   "metadata": {},
   "outputs": [],
   "source": []
  },
  {
   "cell_type": "markdown",
   "metadata": {},
   "source": [
    "## 10.5 Sparse Search"
   ]
  },
  {
   "cell_type": "code",
   "execution_count": 18,
   "metadata": {},
   "outputs": [
    {
     "name": "stdout",
     "output_type": "stream",
     "text": [
      "4\n",
      "7\n",
      "10\n",
      "0\n"
     ]
    }
   ],
   "source": [
    "function binarySearch(arr, item) {\n",
    "    return _binarySearch(arr, item, 0, arr.length - 1);\n",
    "}\n",
    "\n",
    "function _binarySearch(arr, item, start, end) {\n",
    "    let mid = Math.trunc(start + ((end - start) / 2));\n",
    "    \n",
    "    if(end < start) {\n",
    "        return -1;\n",
    "    }\n",
    "    else if (arr[mid] === item) {\n",
    "        return mid;\n",
    "    }\n",
    "    else if (arr[mid] > item) {\n",
    "        return _binarySearch(arr, item, start, mid - 1);\n",
    "    }\n",
    "    else {\n",
    "        return _binarySearch(arr, item, mid + 1, end);\n",
    "    }\n",
    "}\n",
    "\n",
    "function sparseBinarySearch(arr, item) {\n",
    "    return _sparseBinarySearch(arr, item, 0, arr.length - 1);\n",
    "}\n",
    "\n",
    "function _sparseBinarySearch(arr, item, start, end) {\n",
    "    let mid = Math.trunc(start + ((end - start) / 2));\n",
    "    let itemCode = item[0].toLowerCase().charCodeAt(0);\n",
    "    \n",
    "    if(end < start) {\n",
    "        return  -1;\n",
    "    }\n",
    "    else if (arr[mid] === item) {\n",
    "        return mid;\n",
    "    }\n",
    "    // if we have an empty string at the mid\n",
    "    // then check both sides for any items\n",
    "    else if(arr[mid].length === 0) {\n",
    "        /*\n",
    "            1. find the right and left indices that don't have an empty object\n",
    "            2. if one of them finds something, check if the object @ index is the item\n",
    "            3. if it isn't then depending on whether it is the left or right will have 2 options\n",
    "                - if it is left and arr[left][0].charNumber > item[0].char then go from index --> end, else, go from start --> index - 1\n",
    "                - else if it is right and arr[right][0].charNum < item[0].char, then go from index + 1 --> end, else go from start --> index - 1\n",
    "        */\n",
    "        let left = mid - 1;\n",
    "        let right = mid + 1;\n",
    "        while(true) {\n",
    "            if(left < 0 || right > arr.length - 1) {\n",
    "                break;\n",
    "            }\n",
    "            else if(arr[left].length !== 0) {\n",
    "                if(arr[left] === item) {\n",
    "                    return left;\n",
    "                }\n",
    "                else if(arr[left].toLowerCase().charCodeAt(0) >= itemCode) {\n",
    "                    end = left;\n",
    "                    break;\n",
    "                }\n",
    "                else {\n",
    "                    start = left;\n",
    "                    break;\n",
    "                }\n",
    "            }\n",
    "            else if (arr[right].length !== 0) {\n",
    "                if(arr[right] === item) {\n",
    "                    return right;\n",
    "                }\n",
    "                else if(arr[right].toLowerCase().charCodeAt(0) <= itemCode) {\n",
    "                    start = right;\n",
    "                    break;\n",
    "                }\n",
    "                else {\n",
    "                    end = right;\n",
    "                    break;\n",
    "                }\n",
    "            }\n",
    "            else {\n",
    "                left--;\n",
    "                right++;\n",
    "            }\n",
    "        }\n",
    "        \n",
    "        if(left < 0 || right > arr.length - 1) {\n",
    "            return -1;\n",
    "        }\n",
    "        return _sparseBinarySearch(arr, item, start, end);\n",
    "    }\n",
    "    else if (arr[mid].toLowerCase().charCodeAt(0) >= itemCode) {\n",
    "        return _sparseBinarySearch(arr, item, start, mid - 1);\n",
    "    }\n",
    "    else {\n",
    "        return _sparseBinarySearch(arr, item, mid + 1, end);\n",
    "    }\n",
    "}\n",
    "\n",
    "var sparse_list = ['at', '', '', '', 'ball', '', '', 'car', '', '', 'dad', '', ''];\n",
    "console.log(sparseBinarySearch(sparse_list, 'ball')) // 4\n",
    "console.log(sparseBinarySearch(sparse_list, 'car')) // 7\n",
    "console.log(sparseBinarySearch(sparse_list, 'dad')) // 10\n",
    "console.log(sparseBinarySearch(sparse_list, 'at')) // 0"
   ]
  },
  {
   "cell_type": "markdown",
   "metadata": {},
   "source": [
    "### Book Solutions:"
   ]
  },
  {
   "cell_type": "code",
   "execution_count": null,
   "metadata": {},
   "outputs": [],
   "source": []
  },
  {
   "cell_type": "markdown",
   "metadata": {},
   "source": [
    "## 10.6 Sort Big File\n",
    "\n",
    "* Assumptions:\n",
    "    1. memory isn't an issue\n",
    "    2. this can be done on one machine\n",
    "    3. assume string length per line is variable\n",
    "* Algorithm:\n",
    "    1. break up file into various chunks\n",
    "        - four 5gb files, or five 4gb files or ten 2gb files, etc\n",
    "    2. for each file, we want to sort them\n",
    "        - radix sort for each one from leftmost char in string to rightmost\n",
    "    3. once each file is sorted, we merge them together\n",
    "        - file1 + file 2\n",
    "        - then file3 + file4\n",
    "        - then (file1 + file2) + (file3 + file4)"
   ]
  },
  {
   "cell_type": "markdown",
   "metadata": {},
   "source": [
    "### Book Solutions:"
   ]
  },
  {
   "cell_type": "markdown",
   "metadata": {},
   "source": [
    "## 10.7 Missing Int:\n",
    "* Info:\n",
    "    - 4 billion integers\n",
    "    - each integer is non-negative so >= 0\n",
    "    - assume each int is 4 bytes\n",
    "    - there's 1GB of memory to do the task\n",
    "    - if using memory, can only process 250 million integers at a time\n",
    "* Algorithm:\n",
    "    1. make 1 pass through the input file and keep track of the max number in the list\n",
    "    2. return max + 1 since it will not be in the file\n",
    "* O(n) time complexity where n = number of integers and O(1) space complexity since only needs to keep track of the max"
   ]
  },
  {
   "cell_type": "markdown",
   "metadata": {},
   "source": [
    "### Book Solutions:"
   ]
  },
  {
   "cell_type": "markdown",
   "metadata": {},
   "source": [
    "## 10.8 Find Duplicates"
   ]
  },
  {
   "cell_type": "code",
   "execution_count": null,
   "metadata": {},
   "outputs": [],
   "source": []
  },
  {
   "cell_type": "markdown",
   "metadata": {},
   "source": [
    "### Book Solutions"
   ]
  },
  {
   "cell_type": "code",
   "execution_count": null,
   "metadata": {},
   "outputs": [],
   "source": []
  },
  {
   "cell_type": "code",
   "execution_count": null,
   "metadata": {},
   "outputs": [],
   "source": []
  },
  {
   "cell_type": "code",
   "execution_count": null,
   "metadata": {},
   "outputs": [],
   "source": []
  },
  {
   "cell_type": "code",
   "execution_count": null,
   "metadata": {},
   "outputs": [],
   "source": []
  }
 ],
 "metadata": {
  "kernelspec": {
   "display_name": "Javascript (Node.js)",
   "language": "javascript",
   "name": "javascript"
  },
  "language_info": {
   "file_extension": ".js",
   "mimetype": "application/javascript",
   "name": "javascript",
   "version": "13.12.0"
  }
 },
 "nbformat": 4,
 "nbformat_minor": 2
}
