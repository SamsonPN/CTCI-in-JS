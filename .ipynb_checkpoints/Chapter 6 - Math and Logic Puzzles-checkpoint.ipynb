{
 "cells": [
  {
   "cell_type": "markdown",
   "metadata": {},
   "source": [
    "## 6.1 The Heavy Pill\n",
    "* split bottles into 2 groups of 10\n",
    "* each bottle will contribute 1, 2, 3, 4, ... 10 pills\n",
    "* depending on the difference between the bottles / 1.1, we will know exactly which bottle has 1.1g pills\n",
    "    - ex: if the total is 55.2, we know that the 2nd bottle has the heavier pills b/c 2 x 1.1 = 2.2g"
   ]
  },
  {
   "cell_type": "markdown",
   "metadata": {},
   "source": [
    "### Book Solutions:\n",
    "* we can differentiate between the bottles by making each one contribute a certain number of pills.\n",
    "    - so the first bottle contributes 1, second contributes 2, ..., 20th contributes 20 pills\n",
    "* we know that the expected weight of this method should be about 210g (summation of 1 to 20)\n",
    "* so given that there is one bottle that contributes 1.1g per pill, we can then take the difference between the actual weight and the expected weight and divide that by 20\n",
    "    - $\\frac{actual - expected}{0.1}$\n",
    "* so if the 20th pill bottle had the heavier pills, then it would contribute 22g instead of 20g\n",
    "    - thus actual = 212\n",
    "    - (212 - 210) / 0.1 ==> 2 / 0.1 ==> 20"
   ]
  },
  {
   "cell_type": "markdown",
   "metadata": {},
   "source": [
    "## 6.2 Basketball\n",
    "* Game 2 probabilies:\n",
    "    - total = $p^{3} + 3 * (p^{2} * ( 1 - p))$\n",
    "    - $p^{3}$ represents the probability of making in all 3 shots\n",
    "    - $3 * (p^{2} * ( 1 - p))$ represents all possibilities of making 2/3 shots\n",
    "        - so (make, make, miss), (make, miss, make), and (miss, make, make)\n",
    "* which one should you choose?\n",
    "    - choose Game 1 if probability of making a shot 0 < p < 50%\n",
    "    - choose Game 2 if probability of making a shot 50 < p < 100%\n",
    "    - choose either Game 1 or Game 2 if probability of making a shot is 0, 50, or 100%"
   ]
  },
  {
   "cell_type": "code",
   "execution_count": 1,
   "metadata": {},
   "outputs": [
    {
     "name": "stdout",
     "output_type": "stream",
     "text": [
      "G2\n",
      "G1\n",
      "Equal\n"
     ]
    }
   ],
   "source": [
    "function whichGame(shotChance) {\n",
    "    shotChance /= 100;\n",
    "    let madeAll3 = Math.pow(shotChance, 3);\n",
    "    let made2 = 3 * (Math.pow(shotChance, 2) * (1 - shotChance));\n",
    "    let total = madeAll3 + made2;\n",
    "    if(shotChance === total) {\n",
    "        return 'Equal'\n",
    "    }\n",
    "    return shotChance > total ? 'G1' : 'G2';\n",
    "}\n",
    "\n",
    "console.log(whichGame(99));\n",
    "console.log(whichGame(1));\n",
    "console.log(whichGame(50));"
   ]
  },
  {
   "cell_type": "markdown",
   "metadata": {},
   "source": [
    "### Book Solutions\n",
    "* exactly the same as my solution"
   ]
  },
  {
   "cell_type": "markdown",
   "metadata": {},
   "source": [
    "## 6.3 Dominos:\n",
    "* total number of squares for a 8x8 chessboard = 64\n",
    "    - with 2 diagonal corners cut off = 62\n",
    "* is it possible to fit 31 dominos onto this board where each domino covers 2 squares?\n",
    "    - impossible, b/c a domino can only cover a black/white space at any time\n",
    "    - thus by cutting 2 corners, that are diagonal, you are essentially making the distribution of white and back spaces uneven. this is b/c diagonal corners are the same color\n",
    "    - so if you cut diagonal white corners, then you have 32 black spaces and 30 white spaces, so they are not evenly distributed\n",
    "    - but if you cut corners on the same side, then you remove a black space and a white space, making the distrubution of black and white spaces even and can therefore fit the 31 dominos on the board"
   ]
  },
  {
   "cell_type": "markdown",
   "metadata": {},
   "source": [
    "### Book Solutions\n",
    "* exactly the same as my solution"
   ]
  },
  {
   "cell_type": "markdown",
   "metadata": {},
   "source": [
    "## 6.4 Ants on a Triangle:\n",
    "* assumed that there are 3 ways for ants to collide on a triangle\n",
    "    - ant1 + ant2, ant1 + ant3, ant2 + ant3\n",
    "* did the probabilities incorrectly and got (0.5)^n * n, where n = 3 for triangle"
   ]
  },
  {
   "cell_type": "markdown",
   "metadata": {},
   "source": [
    "### Book Solutions\n",
    "* P(collide) = 1 - P(not colliding)\n",
    "    - if all ants move in the same direction (clockwise or counterclockwise) then they will not collide\n",
    "    - P(clockwise) = $(1/2)^{3}$\n",
    "        - (1/2) b/c they can only go to their left or right\n",
    "    - P(counterclockwise) = $(1/2)^{3}$\n",
    "    - P(not colliding) = P(clockwise) + P(counterclockwise) = 1/4\n",
    "    - P(collision) = 1 - P(not colliding) = 1 - (1/4) = 3/4\n",
    "* applied to an n-vertex shape:\n",
    "    - P(clockwise) = $(1/2)^{n}$\n",
    "    - P(counterclockwise) = $(1/2)^{n}$\n",
    "    - P(not colliding) = $2*(1/2)^{n}$ = $(1/2)^{n-1}$\n",
    "    - P(collision) = 1 - P(same direction) = 1 - $(1/2)^{n-1}$"
   ]
  },
  {
   "cell_type": "markdown",
   "metadata": {},
   "source": [
    "## 6.5 Jugs of Water\n",
    "1. fill up 5q\n",
    "2. pour from 5q to 3q\n",
    "    - 2q left in 5q jug\n",
    "3. empty 3q\n",
    "4. pour remaining 2q to 3q\n",
    "5. fill up 5q all the way\n",
    "6. pour into 3q\n",
    "7. you now have 4q in the 5q jug"
   ]
  },
  {
   "cell_type": "markdown",
   "metadata": {},
   "source": [
    "### Book Solutions:\n",
    "* exact same as my solution"
   ]
  },
  {
   "cell_type": "markdown",
   "metadata": {},
   "source": [
    "## 6.6 Blue-Eyed Island\n",
    "* did not attempt"
   ]
  },
  {
   "cell_type": "markdown",
   "metadata": {},
   "source": [
    "### Book Solutions\n",
    "* base case and build approach\n",
    "* know that there is at least 1 person with blue eyes\n",
    "* case c = 1: \n",
    "    - 1 person has blue eyes\n",
    "    - will realize that the only person with blue eyes is them\n",
    "    - will leave that evening\n",
    "    - so c = 1 day\n",
    "* case c = 2: \n",
    "    - 2 people have blue eyes\n",
    "    - they spot each other but are unsure if they have blue eyes as well\n",
    "    - will wait out a day and if the other person has not left, will realize that they have blue eyes\n",
    "        - this is built on case 1 where the other person realizes they are the only ones with blue eyes b/c they everyone else has brown or green eyes\n",
    "    - will take the flight on the 2nd day\n",
    "    - so when c = 2, it takes 2 days\n",
    "* case c > 2:\n",
    "    - same logic applies but with a bigger group\n",
    "    - #blue eyed people on the island = # of days it takes before they all leave"
   ]
  },
  {
   "cell_type": "markdown",
   "metadata": {},
   "source": [
    "## 6.7 The Apocalypse: \n",
    "* did not attempt but logically, it should be 50%"
   ]
  },
  {
   "cell_type": "markdown",
   "metadata": {},
   "source": [
    "### Book Solutions: \n",
    "* logically it is 50%\n",
    "* if each family contributed a sequence of boys and girls and they were all combined together, we would see an even ratio\n",
    "    - for example: BBGBBG, the odds of the next character being a B or a G is 50%"
   ]
  },
  {
   "cell_type": "code",
   "execution_count": 15,
   "metadata": {},
   "outputs": [
    {
     "data": {
      "text/plain": [
       "0.5165289256198347"
      ]
     },
     "execution_count": 15,
     "metadata": {},
     "output_type": "execute_result"
    }
   ],
   "source": [
    "// simulation\n",
    "// very close to 50%\n",
    "\n",
    "// n = number of families\n",
    "function runNFamilies(n) {\n",
    "    let boys = 0;\n",
    "    let girls = 0;\n",
    "    for(let i = 0; i < n; i++) {\n",
    "        let genders = runOneFamily();\n",
    "        girls += genders[0];\n",
    "        boys += genders[1];\n",
    "    }\n",
    "    return girls / (boys + girls);\n",
    "}\n",
    "\n",
    "// runs until algorithm gets a girl\n",
    "function runOneFamily() {\n",
    "    let boys = 0;\n",
    "    let girls = 0;\n",
    "    while(girls === 0) {\n",
    "        if( Math.random() >= 0.5 ) {\n",
    "            girls += 1;\n",
    "        }\n",
    "        else {\n",
    "            boys += 1;\n",
    "        }\n",
    "    }\n",
    "    return [girls, boys];\n",
    "}\n",
    "\n",
    "runNFamilies(1000)"
   ]
  },
  {
   "cell_type": "markdown",
   "metadata": {},
   "source": [
    "## 6.8 Egg Drop Problem\n",
    "* use the first egg to gauge a range of breaking points\n",
    "    - as one goes up, the floor jumps decrease until the egg breaks\n",
    "    - ex: jump 20, 18, 16, 14, 12, 10\n",
    "* then use the second egg starting from the last floor dropped on and move up until it reaches a floor that breaks it"
   ]
  },
  {
   "cell_type": "markdown",
   "metadata": {},
   "source": [
    "### Book Solutions:\n",
    "* must balance between number of drops and number of steps between egg 1 and egg 2\n",
    "    - i.e. egg 1 shouldn't do more work than egg 2 and vice versa\n",
    "* therefore, egg 1 must start at floor x and then go up by x-1 floors, then x-2, etc\n",
    "    - X + (X - 1) + (X - 2) + ... + 1 = 100\n",
    "    - $\\frac{x(x+1)}{2} = 100$\n",
    "    - X ~= 13.65 = 14\n",
    "* so would make 14, 13, 12, 11, 10, ... , 4 = 99 floors, then check 1 more for 100 if it hadn't broken\n",
    "    - so no more than 14 drops are necessary"
   ]
  },
  {
   "cell_type": "markdown",
   "metadata": {},
   "source": [
    "## 6.9 100 Lockers:\n",
    "* generated a brute force algorithm to check for number of opened lockers"
   ]
  },
  {
   "cell_type": "code",
   "execution_count": 25,
   "metadata": {},
   "outputs": [
    {
     "name": "stdout",
     "output_type": "stream",
     "text": [
      "{\n",
      "  arr: [\n",
      "    true,  false, false, true,  true,  true,  false, true,  false,\n",
      "    false, false, true,  false, true,  false, true,  true,  true,\n",
      "    false, true,  false, true,  false, true,  false, false, false,\n",
      "    true,  false, true,  false, true,  false, true,  false, true,\n",
      "    true,  true,  false, true,  false, true,  false, true,  false,\n",
      "    true,  false, true,  false, false, false, true,  false, true,\n",
      "    false, true,  false, true,  false, true,  false, true,  false,\n",
      "    true,  true,  true,  false, true,  false, true,  false, true,\n",
      "    false, true,  false, true,  false, true,  false, true,  false,\n",
      "    false, false, true,  false, true,  false, true,  false, true,\n",
      "    false, true,  false, true,  false, true,  false, true,  false,\n",
      "    true\n",
      "  ]\n",
      "}\n"
     ]
    },
    {
     "data": {
      "text/plain": [
       "50"
      ]
     },
     "execution_count": 25,
     "metadata": {},
     "output_type": "execute_result"
    }
   ],
   "source": [
    "function lockers() {\n",
    "    let arr = [];\n",
    "    for(let i = 0; i < 100; i++) {\n",
    "        arr[i] = i % 2 === 0 ? false : true;\n",
    "    }\n",
    "    for(let i = 0; i < 100; i++) {\n",
    "        for(let j = 0; j < 100; j++) {\n",
    "            if(j % i === 0) {\n",
    "                let old = arr[j];\n",
    "                arr[j] = !old;\n",
    "            }\n",
    "        }\n",
    "    }\n",
    "    \n",
    "    let opened = 0;\n",
    "    arr.forEach(open => {\n",
    "        if(open) {\n",
    "            opened++;\n",
    "        }\n",
    "    })\n",
    "    console.log({arr})\n",
    "    return opened;\n",
    "}\n",
    "\n",
    "lockers()"
   ]
  },
  {
   "cell_type": "markdown",
   "metadata": {},
   "source": [
    "### Book Solutions: \n",
    "* for which rounds is a door toggled (open or closed)?\n",
    "    - a door is toggled for each of its factors\n",
    "    - for example: 15 = {1, 3, 5, 15} and thus it will be opened or closed on those numbers\n",
    "* when would a door be left open?\n",
    "    - it would be left open if |factors| is odd\n",
    "* when would x be odd?\n",
    "    - x would be odd if the number is a perfect square\n",
    "    - for example: 36 = {1, 2, 3, 4, 6, 9, 12, 18, 36}\n",
    "    - this is b/c only 1 of its factors is paired up with itself\n",
    "* how many perfect squares are there?\n",
    "    - 1, 4, 9, 16, 25, 36, 49, 64, 81, 100 = 10 perfect squares\n",
    "    - therefore there are 10 that are open"
   ]
  },
  {
   "cell_type": "markdown",
   "metadata": {},
   "source": [
    "## 6.10 Poison\n",
    "* used the naive approach of splitting up the bottles into groups and continually test a group until we reach 1 group\n",
    "* would take 28 days in total"
   ]
  },
  {
   "cell_type": "markdown",
   "metadata": {},
   "source": [
    "### Book Solutions:\n",
    "* basically, each strip is an indicator for either poison or unpoisoned\n",
    "    - since we only have 2 options, we can treat them like flags in a binary sequence\n",
    "    - remember that you can generate every subset using binary numbers by getting the binary representation from the length of the set$^{2}$\n",
    "    - therefore, we have 1000 bottles, each one has a unique binary sequence and we can use the strips as flags\n",
    "* optimized solution in 7 days:\n",
    "    1. number each bottle\n",
    "    2. get binary representation of numbers\n",
    "    3. for each number, if a bit is set at the ith position, add a drop of its contents into the ith strip\n",
    "        - so bottle number 4 = 0100\n",
    "        - so then you would get the 3rd strip and put a drop on it b/c there is a 1 in the 3rd position\n",
    "    4. wait 7 days and see which strip has a positive reading\n",
    "    5. if a strip has a positive reading, set the bit at the ith position\n",
    "        - so if the 7th strip is positive, then put a 1 at pos 7\n",
    "    6. once you're finished, the whole binary sequence will tell you which bottle has the poison\n",
    "        - the binary sequence will have 10 digits\n",
    "        - whether that strip is positive or negative will decide whether its position in the sequence is 1 or 0 respectively\n",
    "        - so if bottle number 4 is the poisoned one, then our sequence would be 0000000100\n",
    "* only possible if number of bottles < $2^{numStrips}$\n",
    "    - so 1000 bottles < $2^{10}$"
   ]
  },
  {
   "cell_type": "markdown",
   "metadata": {},
   "source": [
    "# Summary\n",
    "* __READ THE PROMPT CAREFULLY FOR ANY CLUES. EVERY SINGLE DETAIL IN A QUESTION IS VERY IMPORTANT__\n",
    "* if the question seems very large, start with a base case and build up\n",
    "* for probability, try to see if it is easier to calculate the complement\n",
    "    - so if you want to calculate P(collision), calculate P(not colliding) if it's easier then do P(collision) = 1 - P(not colliding)\n",
    "* if you're given a limit on something, then see if you could frontload the work first or if it is a multi-step thing, then you could balance the amount of work each of the steps do to minimize the average amount of work needed\n",
    "* see if you could frame the question in another way if it seems like there is a 1-1 relation between this problem and another problem\n",
    "    - for example, problem 6.10 is related to binary problems in some way and can be framed as such"
   ]
  },
  {
   "cell_type": "code",
   "execution_count": null,
   "metadata": {},
   "outputs": [],
   "source": []
  }
 ],
 "metadata": {
  "kernelspec": {
   "display_name": "Javascript (Node.js)",
   "language": "javascript",
   "name": "javascript"
  },
  "language_info": {
   "file_extension": ".js",
   "mimetype": "application/javascript",
   "name": "javascript",
   "version": "13.12.0"
  }
 },
 "nbformat": 4,
 "nbformat_minor": 2
}
