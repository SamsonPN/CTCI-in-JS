{
 "cells": [
  {
   "cell_type": "markdown",
   "metadata": {},
   "source": [
    "## 8.1 Triple Step"
   ]
  },
  {
   "cell_type": "code",
   "execution_count": 95,
   "metadata": {},
   "outputs": [
    {
     "data": {
      "text/plain": [
       "274"
      ]
     },
     "execution_count": 95,
     "metadata": {},
     "output_type": "execute_result"
    }
   ],
   "source": [
    "// naive recursive algorithm\n",
    "function stepCount(n) {\n",
    "    return n <= 0 ? 0 : _stepCount(n, n, 0)\n",
    "}\n",
    "\n",
    "function _stepCount(n, current, ways) {\n",
    "    if(current === 0) {\n",
    "        ways++;\n",
    "        return ways;\n",
    "    }\n",
    "    else if (current < 0) {\n",
    "        return ways;\n",
    "    }\n",
    "    else {\n",
    "        ways = _stepCount(n, current - 1, ways);\n",
    "        ways = _stepCount(n, current - 2, ways);\n",
    "        ways = _stepCount(n, current - 3, ways);\n",
    "    }\n",
    "    return ways;\n",
    "}\n",
    "\n",
    "stepCount(10)"
   ]
  },
  {
   "cell_type": "code",
   "execution_count": 109,
   "metadata": {},
   "outputs": [
    {
     "name": "stdout",
     "output_type": "stream",
     "text": [
      "274\n",
      "1.803963808151009e+26\n",
      "2.7588428077664853e+264\n"
     ]
    }
   ],
   "source": [
    "// memoized version\n",
    "function stepMemo(n) {\n",
    "    let memo = {};\n",
    "    return n <= 0 ? 0 : _stepMemo(n, n, 0, memo)\n",
    "}\n",
    "\n",
    "function _stepMemo(n, current, ways, memo) {\n",
    "    if(memo[current]) {\n",
    "        return ways + memo[current];\n",
    "    }\n",
    "    else if(current === 0) {\n",
    "        ways++;\n",
    "        return ways;\n",
    "    }\n",
    "    else if (current < 0) {\n",
    "        return ways;\n",
    "    }\n",
    "    else {\n",
    "        ways = _stepMemo(n, current - 1, ways, memo);\n",
    "        ways = _stepMemo(n, current - 2, ways, memo);\n",
    "        ways = _stepMemo(n, current - 3, ways, memo);\n",
    "        memo[current] = ways;\n",
    "    }\n",
    "    return ways;\n",
    "}\n",
    "\n",
    "console.log(stepMemo(10))\n",
    "console.log(stepMemo(100))\n",
    "console.log(stepMemo(1000))"
   ]
  },
  {
   "cell_type": "markdown",
   "metadata": {},
   "source": [
    "* exactly the same as __bottom-up Fibonacci__\n",
    "* only difference is that it keeps track of 3 values instead of 2"
   ]
  },
  {
   "cell_type": "code",
   "execution_count": 100,
   "metadata": {},
   "outputs": [
    {
     "name": "stdout",
     "output_type": "stream",
     "text": [
      "274\n",
      "1.803963808151009e+26\n",
      "2.7588428077664853e+264\n"
     ]
    }
   ],
   "source": [
    "// bottom up\n",
    "function stepDP(n) {\n",
    "    if(n <= 0) {\n",
    "        return 0;\n",
    "    }\n",
    "    else if (n <= 2) {\n",
    "        return n;\n",
    "    }\n",
    "    else {\n",
    "        let oneStep = 2;\n",
    "        let twoStep = 1;\n",
    "        let threeStep = 1;\n",
    "        for(let i = 3; i < n; i++) {\n",
    "            let temp = oneStep + twoStep + threeStep;\n",
    "            threeStep = twoStep;\n",
    "            twoStep = oneStep;\n",
    "            oneStep = temp;\n",
    "        }\n",
    "        return oneStep + twoStep + threeStep;\n",
    "    }\n",
    "}\n",
    "\n",
    "console.log(stepDP(10))\n",
    "console.log(stepDP(100))\n",
    "console.log(stepDP(1000))"
   ]
  },
  {
   "cell_type": "markdown",
   "metadata": {},
   "source": [
    "### Book Solutions\n",
    "* naive rec. alg: O(3$^{n}$)\n",
    "    - similar to fibonacci\n",
    "* memoized solution: O(n)\n",
    "    - b/c the only time you have a recursive call is when you have to figure out the value of a new number\n",
    "    - else, it'll be in the memo table already"
   ]
  },
  {
   "cell_type": "code",
   "execution_count": 110,
   "metadata": {},
   "outputs": [
    {
     "data": {
      "text/plain": [
       "274"
      ]
     },
     "execution_count": 110,
     "metadata": {},
     "output_type": "execute_result"
    }
   ],
   "source": [
    "// simple implementation\n",
    "\n",
    "function countWays(n) {\n",
    "    if (n < 0) {\n",
    "        return 0;\n",
    "    }\n",
    "    // assume that countWays(0) = 1\n",
    "    else if (n === 0) {\n",
    "        return 1;\n",
    "    }\n",
    "    else {\n",
    "        return countWays(n - 1) + countWays(n - 2) + countWays(n - 3);\n",
    "    }\n",
    "}\n",
    "\n",
    "countWays(10)"
   ]
  },
  {
   "cell_type": "code",
   "execution_count": 112,
   "metadata": {},
   "outputs": [
    {
     "data": {
      "text/plain": [
       "1.803963808151009e+26"
      ]
     },
     "execution_count": 112,
     "metadata": {},
     "output_type": "execute_result"
    }
   ],
   "source": [
    "// memoized\n",
    "\n",
    "function countWaysMemo(n) {\n",
    "    let memo = [];\n",
    "    return _countWaysMemo(n, memo);\n",
    "}\n",
    "\n",
    "function _countWaysMemo(n, memo) {\n",
    "    if (n < 0) {\n",
    "        return 0;\n",
    "    }\n",
    "    else if (n === 0) {\n",
    "        return 1;\n",
    "    }\n",
    "    else if (memo[n]) {\n",
    "        return memo[n]\n",
    "    }\n",
    "    else {\n",
    "        memo[n] = _countWaysMemo(n - 1, memo) + _countWaysMemo(n - 2, memo) + _countWaysMemo(n - 3, memo);\n",
    "        return memo[n];\n",
    "    }\n",
    "}\n",
    "\n",
    "countWaysMemo(100)"
   ]
  },
  {
   "cell_type": "markdown",
   "metadata": {},
   "source": [
    "## 8.2 Robot in Grid"
   ]
  },
  {
   "cell_type": "code",
   "execution_count": null,
   "metadata": {},
   "outputs": [],
   "source": []
  },
  {
   "cell_type": "code",
   "execution_count": null,
   "metadata": {},
   "outputs": [],
   "source": []
  },
  {
   "cell_type": "code",
   "execution_count": null,
   "metadata": {},
   "outputs": [],
   "source": []
  }
 ],
 "metadata": {
  "kernelspec": {
   "display_name": "Javascript (Node.js)",
   "language": "javascript",
   "name": "javascript"
  },
  "language_info": {
   "file_extension": ".js",
   "mimetype": "application/javascript",
   "name": "javascript",
   "version": "13.12.0"
  }
 },
 "nbformat": 4,
 "nbformat_minor": 2
}
