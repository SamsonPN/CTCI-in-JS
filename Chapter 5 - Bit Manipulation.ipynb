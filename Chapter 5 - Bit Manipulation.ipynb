{
 "cells": [
  {
   "cell_type": "markdown",
   "metadata": {},
   "source": [
    "## 5.1 Insertion"
   ]
  },
  {
   "cell_type": "code",
   "execution_count": 8,
   "metadata": {},
   "outputs": [
    {
     "data": {
      "text/plain": [
       "'10001001100'"
      ]
     },
     "execution_count": 8,
     "metadata": {},
     "output_type": "execute_result"
    }
   ],
   "source": [
    "// my solution is 5% slower b/c I generate the sequence of 1s using Math.pow when i could've just done ~0 or -1\n",
    "// otherwise, i basically just combined the 2 steps of making the left mask and right mask into one-line\n",
    "\n",
    "function insertion(N, M, i, j) {\n",
    "    let pow = Math.pow(2, j - 1);  // turned it into sequence of 1s 11111\n",
    "    let mask = ~( ( pow - 1 ) << i); // shifted 1s by i then negated\n",
    "    N &= mask;\n",
    "    return N | (M << i);\n",
    "}\n",
    "var N = 0b10000000000;\n",
    "var M = 0b10011;\n",
    "insertion(N, M, 2, 6).toString(2);"
   ]
  },
  {
   "cell_type": "markdown",
   "metadata": {},
   "source": [
    "### Book Solutions:\n",
    "* M = inserted sequence\n",
    "* N = larger sequence getting M inserted into it\n",
    "* solution:\n",
    "    1. clear the bits j through i in N \n",
    "        - this can be done by creating a mask where the bits from j through i are 0 and the surrounding bits are 1s\n",
    "        - __if the mask seems complex, separate it into parts__\n",
    "        - so for our mask, we needed something like this: 111100000011;\n",
    "        - this can be split into the left side: 11110000000\n",
    "        - and the right side: 00000000011\n",
    "        - then you can combine them together\n",
    "    2. shift M so that it lines up with bits j through i\n",
    "        - from the prompt, we know that bits j through i have enough space to fill all of m, so all you need to do is just shift M by i\n",
    "        - so M << i\n",
    "        - this would automatically put the sequence at pos j through i in M\n",
    "    3. merge M and N\n",
    "        - then you do M | N to merge the 2 together"
   ]
  },
  {
   "cell_type": "code",
   "execution_count": 43,
   "metadata": {},
   "outputs": [
    {
     "data": {
      "text/plain": [
       "'10001001100'"
      ]
     },
     "execution_count": 43,
     "metadata": {},
     "output_type": "execute_result"
    }
   ],
   "source": [
    "function updateBits(n, m, i, j) {\n",
    "    // we want the mask to look like 11110000011; where the 0s clear out the bit where M is supposed to be\n",
    "    let allOnes = ~0; //sequence of 1s\n",
    "    \n",
    "    // this would create 11110000000\n",
    "    let left = allOnes << (j + 1);\n",
    "    \n",
    "    // this would create 00000000011;\n",
    "    let right = ((1 << i) - 1);\n",
    "    \n",
    "    // left | right = 111100000011;\n",
    "    let mask = left | right;\n",
    "    \n",
    "    let n_cleared = n & mask;\n",
    "    let m_shifted = m << i;\n",
    "    \n",
    "    return n_cleared | m_shifted;\n",
    "}\n",
    "\n",
    "var N = 0b10000000000;\n",
    "var M = 0b10011;\n",
    "\n",
    "updateBits(N, M, 2, 6).toString(2);"
   ]
  },
  {
   "cell_type": "markdown",
   "metadata": {},
   "source": [
    "## 5.2 Binary To String"
   ]
  },
  {
   "cell_type": "code",
   "execution_count": 19,
   "metadata": {},
   "outputs": [
    {
     "name": "stdout",
     "output_type": "stream",
     "text": [
      "0.1011100001010001111010111000010100011110101110000101\n",
      "ERROR\n"
     ]
    }
   ],
   "source": [
    "// my solution is ~45% slower b/c i generate the entire string first, then i check whether it is over 32 characters\n",
    "// plus i cheated since i used javascript's toString without doing it myself\n",
    "\n",
    "function binString(num) {\n",
    "    let bin = num.toString(2);\n",
    "    console.log(bin)\n",
    "    let length = bin.slice(2).length;\n",
    "    if(length > 32) {\n",
    "        console.log('ERROR');\n",
    "    }\n",
    "    else {\n",
    "        console.log(bin)\n",
    "    }\n",
    "}\n",
    "\n",
    "binString(0.72)"
   ]
  },
  {
   "cell_type": "markdown",
   "metadata": {},
   "source": [
    "### Book Solutions:\n",
    "* solution:\n",
    "    1. create a temp variable to hold the current value called r\n",
    "    2. r = num * 2;\n",
    "    3. if r >= 1, then you add 1 to the binary string\n",
    "        - and you set num as equal to the decimal part of the number only (that's why we subtract by 1)\n",
    "        - ex: if your number was 1.25, 1.25 - 1 = 0.25, i.e. the decimal portion\n",
    "    4. if r < 1, then you concat 0 and you still use the decimal portion of the number!\n",
    "    5. if the string so far is about 32 chars long, return 'ERROR', else return the binary string once it is done"
   ]
  },
  {
   "cell_type": "code",
   "execution_count": 18,
   "metadata": {},
   "outputs": [
    {
     "name": "stdout",
     "output_type": "stream",
     "text": [
      ".1011100001010001111010111000010\n"
     ]
    },
    {
     "data": {
      "text/plain": [
       "'ERROR'"
      ]
     },
     "execution_count": 18,
     "metadata": {},
     "output_type": "execute_result"
    }
   ],
   "source": [
    "function printBinary(num) {\n",
    "    if(num >= 1 || num <= 0) {\n",
    "        return 'ERROR';\n",
    "    }\n",
    "    \n",
    "    let binary = '.';\n",
    "    \n",
    "    while(num > 0) {\n",
    "        if(binary.length >= 32) {\n",
    "            console.log(binary)\n",
    "            return 'ERROR';\n",
    "        }\n",
    "        \n",
    "        let r = num * 2;\n",
    "        \n",
    "        if(r >= 1) {\n",
    "            binary = binary.concat('1');\n",
    "            num = r - 1;\n",
    "        }\n",
    "        else {\n",
    "            binary = binary.concat('0');\n",
    "            num = r;\n",
    "        }\n",
    "    }\n",
    "    return binary;\n",
    "}\n",
    "\n",
    "printBinary(0.72);"
   ]
  },
  {
   "cell_type": "markdown",
   "metadata": {},
   "source": [
    "## 5.3 Flip Bit to Win"
   ]
  },
  {
   "cell_type": "code",
   "execution_count": 21,
   "metadata": {},
   "outputs": [
    {
     "name": "stdout",
     "output_type": "stream",
     "text": [
      "{ count: 8 }\n",
      "{ count: 3 }\n"
     ]
    }
   ],
   "source": [
    "// my solution is 13% slower b/c i generate the num as a binary string then go through it\n",
    "\n",
    "function flipToWin(num) {\n",
    "    let before0 = 0;\n",
    "    let after0 = 0;\n",
    "    num = num.toString(2);\n",
    "    for(let i = 0; i < num.length; i++) {\n",
    "        let bit = num[i];\n",
    "        if(bit === '1') {\n",
    "            after0++;\n",
    "        }\n",
    "        if(bit === '0') {\n",
    "            before0 = after0;\n",
    "            after0 = 0;\n",
    "        }\n",
    "    }\n",
    "    return {count: before0 + after0 + 1}\n",
    "}\n",
    "\n",
    "console.log(flipToWin(0b11011101111));\n",
    "console.log(flipToWin(0b100000101));"
   ]
  },
  {
   "cell_type": "markdown",
   "metadata": {},
   "source": [
    "### Book Solutions\n",
    "* solution:\n",
    "    1. check if the number is already just a sequence of 1s, for example 0b1111111.\n",
    "    2. have 3 variables\n",
    "        - currentLength = current length of 1s as we iterate through bits\n",
    "        - previousLength = length of 1s before we encountered a 0\n",
    "        - maxLength = max length of 1s seq we can make so far\n",
    "    3. iterate through the entire bit sequence of the number\n",
    "        - a & 1 = compares rightmost bit to 1\n",
    "        - ex: a = 0b00011, a & 1 = 0b00011 & 0b00001\n",
    "        - a & 2 = compares next bit in line:\n",
    "        - ex: a = 0b00010, a & 2 = 0b00110 & 0b00010\n",
    "            - we do this b/c if the sequences are not separated by a 0 in the middle: like so : 0b11100111, then prev = 0\n",
    "            - else if it is: 0b1110111, then we set it to the currentLength\n",
    "    4. then at the end, we compare maxLength to the current and previous lengths + 1\n",
    "    5. then we do a logical right shift for a: a >>>= 1\n",
    "        - this is to ensure we escape the while loop (while a !== 0)\n",
    "        - and to ensure we move the bits to the right to check\n",
    "        - ex: 0b000110 >>> 1 = 0b000011"
   ]
  },
  {
   "cell_type": "code",
   "execution_count": 25,
   "metadata": {},
   "outputs": [
    {
     "name": "stdout",
     "output_type": "stream",
     "text": [
      "8\n",
      "3\n"
     ]
    }
   ],
   "source": [
    "function flipBit(a) {\n",
    "    if(~a === 0) {\n",
    "        // the whole number is a sequence of 1s so just return how many bytes are in this\n",
    "        // since flipping a bit wouldn't make it any longer\n",
    "        return a.toString(2).length;\n",
    "    }\n",
    "    \n",
    "    let currentLength = 0; // current length of 1s sequence after a 0\n",
    "    let previousLength = 0; // previous length of 1s sequence before the same 0\n",
    "    let maxLength = 1; //maxLength default to 1 b/c you can flip a 0-bit in 000000 and would have 1\n",
    "    \n",
    "    // iterates through the numbers bits from right to left\n",
    "    while(a !== 0) {\n",
    "        // if the rightmost bit is currently a 1, increment currentLength\n",
    "        if ((a & 1) === 1) {\n",
    "            currentLength++;\n",
    "        }\n",
    "        // else if the bit is current a 0\n",
    "        else if ((a & 1) === 0) {\n",
    "            \n",
    "            // if the bit after the current bit = 0, then previousLength = 0\n",
    "            // else, we set it to the currentLength\n",
    "            previousLength = (a & 2) === 0 ? 0 : currentLength;\n",
    "            \n",
    "            // then reset currentLength to count the sequence after the 0\n",
    "            currentLength = 0;\n",
    "        }\n",
    "        \n",
    "        // updates the maxLength\n",
    "        maxLength = Math.max(previousLength + currentLength + 1, maxLength);\n",
    "        \n",
    "        // THIS CODE IS IMPORTANT B/C WE ARE ABLE TO ITERATE THROUGH A BY DOING THIS\n",
    "        // WE MOVE ALL BITS TO THE RIGHT SO THE NEXT BIT WE CHECK IS THE BIT AFTER THE CURRENT ONE\n",
    "        \n",
    "        // IN ADDITION, THIS CODE IS IMPORTANT TO ESCAPE THE WHILE LOOP.\n",
    "        // REMEMBER THAT LOGICAL RIGHT SHIFTING SETS THE LEFTMOST BIT TO 0 SO AFTER A WHILE\n",
    "        // THE NUMBER B/C 0\n",
    "        a >>>= 1;\n",
    "    }\n",
    "    return maxLength;\n",
    "}\n",
    "\n",
    "console.log(flipBit(0b11011101111));\n",
    "console.log(flipBit(0b100000101));"
   ]
  },
  {
   "cell_type": "markdown",
   "metadata": {},
   "source": [
    "## 5.4 Next Number"
   ]
  },
  {
   "cell_type": "code",
   "execution_count": 125,
   "metadata": {},
   "outputs": [
    {
     "name": "stdout",
     "output_type": "stream",
     "text": [
      "1011\n",
      "1011\n"
     ]
    }
   ],
   "source": [
    "// failed to finish this\n",
    "\n",
    "function nextLargest(n) {\n",
    "    let found = false;\n",
    "    while( !found ) {\n",
    "        n++;\n",
    "        let count = 0;\n",
    "        let x = n;\n",
    "        while(x !== 0) {\n",
    "            x &= (x - 1)\n",
    "            count++;\n",
    "        }\n",
    "    }\n",
    "}\n",
    "\n",
    "function nextSmallest(n) {\n",
    "    \n",
    "}\n",
    "\n",
    "function nextNum(n) {\n",
    "    let nextL = nextLargest(n);\n",
    "    let nextS = nextSmallest(n);\n",
    "    return {nextL, nextS}\n",
    "}\n",
    "\n",
    "console.log(nextNum(11).toString(2))"
   ]
  },
  {
   "cell_type": "code",
   "execution_count": 132,
   "metadata": {},
   "outputs": [
    {
     "name": "stdout",
     "output_type": "stream",
     "text": [
      "1111\n",
      "4\n"
     ]
    }
   ],
   "source": [
    "var x = 15;\n",
    "console.log(x.toString(2))\n",
    "var count = 0;\n",
    "while(x !== 0) {\n",
    "    x &= (x - 1);\n",
    "    count++;\n",
    "}\n",
    "console.log(count)"
   ]
  },
  {
   "cell_type": "markdown",
   "metadata": {},
   "source": [
    "### Book Solutions:\n",
    "* brute force approach:\n",
    "    1. count the number of 1s in n\n",
    "    2. increment and decrement number and check number of 1s in that\n",
    "    3. if they match the number of 1s in n, then we have the next biggest and smallest number\n",
    "* bit manipulation approach to get next largest num:\n",
    "    1. flip rightmost non-trailing zero to a 1\n",
    "        - ex: 11011001111100, the rightmost non-trailing zero is at position 7 or 110110 __0__ 1111100\n",
    "        - so now we have 110110 __1__ 1111100\n",
    "        - and we call that p = position 7\n",
    "    2. then we count the number of 1s and 0s to the right of p\n",
    "        - c1 = number of 1s = 5\n",
    "        - c0 = number of 0s = 2\n",
    "        - p = 7 (position 7)\n",
    "    3. we clear the bits to the right of p so from p - 1 to 0\n",
    "        - mask = ~( ( 1 << p ) - 1 );\n",
    "        - this essentially makes 11111110000000\n",
    "        - 1 << p shifts 1 to pos p\n",
    "        - then when we subtract by 1, we create a bunch of 1s from p to 0, so 00000000111111\n",
    "        - then we negate that ~(0000000011111) to get 11111110000000\n",
    "    4. then we add in c1 - 1 1s\n",
    "        - so we add in (c1 - 1) = 5 - 1 = 4 1s or 1111\n",
    "        - we create a mask: (1 << (c1 - 1)) - 1\n",
    "        - we shift 1 by c1 -1 to create something like this: 00000100000\n",
    "        - then we subtract by 1, which creates a bunch of 1s from c1 - 1 to 0\n",
    "        - so we have 0000001111111\n",
    "    5. so now we have 110110 __1__ 0001111\n",
    "* bit manipulation approach to get next smallest num: (symmetric to largest)\n",
    "    1. get positiion of the rightmost non-trailing 1 and flip it to a 0\n",
    "        - ex: 10011110000011\n",
    "        - rightmost non-trailing 1 is at pos 7: 100111 __1__ 0000011\n",
    "        - so now we have: 100111 __0__ 0000011 after flipping it\n",
    "    2. get the number of 1s and 0s to the right of that non-trailing 1\n",
    "        - p = 7 (pos 7)\n",
    "        - c1 = 2\n",
    "        - c0 = 5\n",
    "    3. clear all bits to the right of that position\n",
    "        - after clearing those bits to right of position 7, we have 100111 __1__ 0000000\n",
    "        - mask = ~0 << (p + 1) which creates 1111100000\n",
    "    4. insert c1 + 1 ones to the __IMMEDIATE right__ of p, NOT AT THE RIGHTMOST PORTION OF THE NUMBER!!!\n",
    "        - we can do this by doing:\n",
    "        - a = 1 << (c1 + 1) to create 00000100000\n",
    "        - b = a - 1 to create 00000011111\n",
    "        - c = b << (c0 - 1) = 001111110000 since c0 = 5 then - 1\n",
    "        - then we would have 100111 __0__ 1110000\n",
    "            - as you can see, the 1s are immediately before the the bolded __0__ instead of all the way to the right of the bit sequence\n",
    "* arithmetic approach to get next largest num: (basically the bit approach but with math)\n",
    "    1. set the pth bit to 1\n",
    "    2. set all bits following p to 0\n",
    "    3. set bits 0 through c1 - 2 to 1 (this will be c1 - 1 total bits)\n",
    "* arithmtic approach to get next smallest num:\n",
    "    1. set pth bit to 0\n",
    "    2. set all bits following p to 1\n",
    "    3. set bits 0 through c0 - 1 to 0"
   ]
  },
  {
   "cell_type": "code",
   "execution_count": 39,
   "metadata": {},
   "outputs": [
    {
     "data": {
      "text/plain": [
       "{ nextLargest: 13, nextSmallest: 7 }"
      ]
     },
     "execution_count": 39,
     "metadata": {},
     "output_type": "execute_result"
    }
   ],
   "source": [
    "function getNextLargest(n) {\n",
    "    let c = n;\n",
    "    let c0 = 0;\n",
    "    let c1 = 0;\n",
    "    \n",
    "    // computes c0;\n",
    "    // if there are no more trailing 0s, then stop\n",
    "    while( ( (c & 1) === 0 ) && (c !== 0 ) ) {\n",
    "        c0++;\n",
    "        c >>= 1;\n",
    "    }\n",
    "    \n",
    "    // computes c1;\n",
    "    while( (c & 1) === 1) {\n",
    "        c1++;\n",
    "        c >>= 1;\n",
    "    }\n",
    "    \n",
    "    // 31 = 011111\n",
    "    // if there are no trailing 0s, cannot have a number larger than this with the same number of 1s\n",
    "    if( (c0 + c1 === 31) || (c0 + c1 == 0)) {\n",
    "        return -1;\n",
    "    }\n",
    "    \n",
    "    let p = c0 + c1;\n",
    "    \n",
    "    n |= (1 << p);\n",
    "    n &= ~( (1 << p) - 1 );\n",
    "    n |= (1 << (c1 - 1)) - 1;\n",
    "    return n;\n",
    "}\n",
    "\n",
    "function getNextSmallest(n) {\n",
    "    let temp = n;\n",
    "    let c0 = 0;\n",
    "    let c1 = 0;\n",
    "    \n",
    "    // calculates number of trailing 1s\n",
    "    while(temp & 1 === 1) {\n",
    "        c1++;\n",
    "        temp >>= 1;\n",
    "    }\n",
    "    \n",
    "    // if no trailing 1s, then cannot find smallest number with same number of 1s\n",
    "    if(temp === 0) {\n",
    "        return -1;\n",
    "    }\n",
    "    \n",
    "    while( (temp & 1) === 0 && (temp !== 0)) {\n",
    "        c0++;\n",
    "        temp >>= 1;\n",
    "    }\n",
    "    \n",
    "    let p = c0 + c1;\n",
    "    n &= ( ~0 << (p + 1));\n",
    "    \n",
    "    let mask = (1 << (c1 + 1)) - 1;\n",
    "    n |= mask << (c0 - 1);\n",
    "    \n",
    "    return n;\n",
    "}\n",
    "\n",
    "function getNext(num) {\n",
    "    let nextLargest = getNextLargest(num);\n",
    "    let nextSmallest = getNextSmallest(num);\n",
    "    return {nextLargest,nextSmallest}\n",
    "}\n",
    "\n",
    "getNext(11)"
   ]
  },
  {
   "cell_type": "markdown",
   "metadata": {},
   "source": [
    "## 5.5 Debugger"
   ]
  },
  {
   "cell_type": "code",
   "execution_count": 146,
   "metadata": {},
   "outputs": [
    {
     "name": "stdout",
     "output_type": "stream",
     "text": [
      "true\n",
      "false\n"
     ]
    }
   ],
   "source": [
    "// determines if the number is a power of 2\n",
    "function debug(n) {\n",
    "    return ( n & (n - 1) ) === 0\n",
    "}\n",
    "\n",
    "console.log(debug(8))\n",
    "console.log(debug(6))"
   ]
  },
  {
   "cell_type": "markdown",
   "metadata": {},
   "source": [
    "### Book Solutions:\n",
    "* checks for power of 2\n",
    "* n - 1 = removes the rightmost 1 bit from n and then makes any trailing 0s before it = 1\n",
    "* then when we and it together, it removes every 1 bit from n\n",
    "* if it does that, then n & (n - 1) = 0\n",
    "* this therefore checks for a power of 2 b/c if it had more than 1 1-bit, then it would not be a power of 2 and would therefore have a non-zero number"
   ]
  },
  {
   "cell_type": "markdown",
   "metadata": {},
   "source": [
    "## 5.6 Conversion"
   ]
  },
  {
   "cell_type": "code",
   "execution_count": 49,
   "metadata": {},
   "outputs": [
    {
     "data": {
      "text/plain": [
       "2"
      ]
     },
     "execution_count": 49,
     "metadata": {},
     "output_type": "execute_result"
    }
   ],
   "source": [
    "function conversion(a, b) {\n",
    "    let convert = a ^ b;\n",
    "    let count = 0;\n",
    "    while(convert !== 0) {\n",
    "        convert &= convert - 1\n",
    "        count++;\n",
    "    }\n",
    "    return count;\n",
    "}\n",
    "\n",
    "conversion(0b11101, 0b01111);"
   ]
  },
  {
   "cell_type": "markdown",
   "metadata": {},
   "source": [
    "### Book Solutions:\n",
    "* solution:\n",
    "    1. XOR the 2 numbers and the spots where it has a 1-bit are the ones where they differ\n",
    "    2. count the number of 1s in it and that will be the number of swaps needed to make them the same"
   ]
  },
  {
   "cell_type": "code",
   "execution_count": 53,
   "metadata": {},
   "outputs": [
    {
     "data": {
      "text/plain": [
       "2"
      ]
     },
     "execution_count": 53,
     "metadata": {},
     "output_type": "execute_result"
    }
   ],
   "source": [
    "function bitSwapRequired(a, b) {\n",
    "    let count = 0;\n",
    "    for(let c = a ^ b; c !== 0; c = c & (c - 1)) {\n",
    "        count ++;\n",
    "    }\n",
    "    return count;\n",
    "}\n",
    "\n",
    "bitSwapRequired(0b11101, 0b01111);"
   ]
  },
  {
   "cell_type": "markdown",
   "metadata": {},
   "source": [
    "## 5.7 Pairwise Swap"
   ]
  },
  {
   "cell_type": "code",
   "execution_count": 59,
   "metadata": {},
   "outputs": [
    {
     "data": {
      "text/plain": [
       "'11100111'"
      ]
     },
     "execution_count": 59,
     "metadata": {},
     "output_type": "execute_result"
    }
   ],
   "source": [
    "function pairSwap(n) {\n",
    "    let odd = n & 0xaaaaaaaa; //1010\n",
    "    let even = n & 0x55555555; // 0101\n",
    "    odd >>>= 1;\n",
    "    even <<= 1;\n",
    "    return odd | even;\n",
    "}\n",
    "\n",
    "pairSwap(0b11011011).toString(2);"
   ]
  },
  {
   "cell_type": "markdown",
   "metadata": {},
   "source": [
    "### Book Solutions:\n",
    "* solution:\n",
    "    1. mask all odd bits with 0xa = 1010\n",
    "        - odd = num & 0xaaaaaaaa\n",
    "    2. mask all even bits with 0x5 = 0101\n",
    "        - even = num & 0x55555555\n",
    "    3. shift the odd bits to the right to make put them in the even position\n",
    "        - odd >>>= 1;\n",
    "        - use of logical right shift b/c want sign to be filled with a zero\n",
    "    4. shift all the even bits to the right to put them in the odd position\n",
    "        - even <<= 1;"
   ]
  },
  {
   "cell_type": "code",
   "execution_count": 63,
   "metadata": {},
   "outputs": [
    {
     "data": {
      "text/plain": [
       "'11100111'"
      ]
     },
     "execution_count": 63,
     "metadata": {},
     "output_type": "execute_result"
    }
   ],
   "source": [
    "function swapOddEvenBits(x) {\n",
    "    return ( (x & 0xaaaaaaaa) >>> 1 | (x & 0x55555555) << 1 ) ;\n",
    "}\n",
    "\n",
    "swapOddEvenBits(0b11011011).toString(2);"
   ]
  },
  {
   "cell_type": "markdown",
   "metadata": {},
   "source": [
    "## 5.8 Draw Line"
   ]
  },
  {
   "cell_type": "code",
   "execution_count": 80,
   "metadata": {},
   "outputs": [
    {
     "name": "stdout",
     "output_type": "stream",
     "text": [
      "[ '00000000',\n",
      "  '00000000',\n",
      "  '00000111',\n",
      "  '11100000',\n",
      "  '00000000',\n",
      "  '00000000' ]\n",
      "\n",
      "\n",
      "[ '00000000',\n",
      "  '00000000',\n",
      "  '00000000',\n",
      "  '00000000',\n",
      "  '00111111',\n",
      "  '11000000' ]\n",
      "\n",
      "\n",
      "[ '00000000',\n",
      "  '00000000',\n",
      "  '00000000',\n",
      "  '00000000',\n",
      "  '00111110',\n",
      "  '00000000' ]\n"
     ]
    }
   ],
   "source": [
    "function getHeight(row, offset) {\n",
    "    let index = 0;\n",
    "    for(let i = 1; i < row; i++) {\n",
    "        index += offset;\n",
    "    }\n",
    "    return index;\n",
    "}\n",
    "\n",
    "function drawLine(screen, width, x1, x2, y) {\n",
    "    let rowIndex = getHeight(y, width / 8);\n",
    "    \n",
    "    while(rowIndex < (rowIndex + (width / 8) )) {\n",
    "        let mask = 0b11111111; // 255 (1 byte)\n",
    "        if(x1 !== 0) {\n",
    "            mask >>= x1;\n",
    "            if(x2 < 7) {\n",
    "                mask >>= 1;\n",
    "                mask <<= 7 - x2;\n",
    "            }   \n",
    "        }\n",
    "        else if (x2 < 7) {\n",
    "            mask >>= x2;\n",
    "            mask = ~(mask);\n",
    "        }\n",
    "        screen[rowIndex] |= mask;\n",
    "        rowIndex++;\n",
    "        x1 = 0;\n",
    "        x2 -= 7;\n",
    "        if(x2 < 0) {\n",
    "            break;\n",
    "        }\n",
    "    }\n",
    "    return screen;\n",
    "}\n",
    "\n",
    "function printResult(screen, width, x1, x2, y) {\n",
    "    return drawLine(screen, width, x1, x2, y).map(el => {\n",
    "        let binRep = (el >>> 0).toString(2);\n",
    "        if(binRep.length <= 8) {\n",
    "            while(binRep.length < 8) {\n",
    "                binRep = '0' + binRep;\n",
    "            }\n",
    "            return binRep;\n",
    "        }\n",
    "        else{\n",
    "            return binRep.slice(32-8);\n",
    "        } \n",
    "    })\n",
    "}\n",
    "\n",
    "var screen1 = [0b00000000, 0b00000000, 0b00000000, 0b00000000, 0b00000000, 0b0000000];\n",
    "var screen2 = [0b00000000, 0b00000000, 0b00000000, 0b00000000, 0b00000000, 0b0000000];\n",
    "var screen3 = [0b00000000, 0b00000000, 0b00000000, 0b00000000, 0b00000000, 0b0000000];\n",
    "var width = 16; // so 0b00000000 and 0b00000000 = 1 row;\n",
    "console.log(printResult(screen1, width, 5, 10, 2));\n",
    "console.log('\\n');\n",
    "console.log(printResult(screen2, width, 2, 9, 3));\n",
    "console.log('\\n');\n",
    "console.log(printResult(screen3, width, 2, 6, 3));"
   ]
  },
  {
   "cell_type": "markdown",
   "metadata": {},
   "source": [
    "### Book Solutions\n",
    "* solution: \n",
    "    1. instead of iterating through an entire byte and setting each one, you can use masks\n",
    "    2. if the line occupies a whole byte (0 - 7), then you can just use a mask and set every bit using 0xFF\n",
    "    3. if the line occupies a small portion of the byte or it spills over, you can create masks for the off-set at the start of it and off_set at the beginning of it"
   ]
  },
  {
   "cell_type": "code",
   "execution_count": 73,
   "metadata": {},
   "outputs": [
    {
     "name": "stdout",
     "output_type": "stream",
     "text": [
      "[ 0, 0, 0, 0, 0, 0, '4.625': 7, '5.25': -32 ]\n"
     ]
    }
   ],
   "source": [
    "function drawLineSoln(screen, width, x1, x2, y) {\n",
    "    let start_offset = x1 % 8;\n",
    "    let first_full_byte = x1 / 8;\n",
    "    if(start_offset !== 0) {\n",
    "        first_full_byte++;\n",
    "    }\n",
    "    \n",
    "    let end_offset = x2 % 8;\n",
    "    let last_full_byte = x2 / 8;\n",
    "    if(end_offset !== 7) {\n",
    "        last_full_byte--;\n",
    "    }\n",
    "    \n",
    "    //set full bytes\n",
    "    \n",
    "    for(let b = first_full_byte; b <= last_full_byte; b++) {\n",
    "        screen[(width / 8) * y + b] = 0xff;\n",
    "    }\n",
    "    \n",
    "    // create masks for start and end of line\n",
    "    let start_mask = (0xFF >> start_offset);\n",
    "    let end_mask = ~(0xFF >> (end_offset + 1));\n",
    "    \n",
    "    // set start and end of line\n",
    "    if((x1 / 8) === (x2 / 8)) {\n",
    "        // x1 and x2 in same byte\n",
    "        let mask = start_mask & end_mask;\n",
    "        screen[(width / 8) * y + (x1 / 8)] |= mask;\n",
    "    }\n",
    "    else {\n",
    "        if(start_offset !== 0) {\n",
    "            let byte_number = (width / 8) * y + first_full_byte - 1;\n",
    "            screen[byte_number] |= start_mask;\n",
    "        }\n",
    "        if(end_offset !== 7) {\n",
    "            let byte_number = (width / 8) * y + last_full_byte + 1;\n",
    "            screen[byte_number] |= end_mask;\n",
    "        }\n",
    "    }\n",
    "    return screen;\n",
    "}\n",
    "\n",
    "function printResultSoln(screen, width, x1, x2, y) {\n",
    "    return drawLineSoln(screen, width, x1, x2, y).map(el => {\n",
    "        let binRep = (el >>> 0).toString(2);\n",
    "        if(binRep.length <= 8) {\n",
    "            while(binRep.length < 8) {\n",
    "                binRep = '0' + binRep;\n",
    "            }\n",
    "            return binRep;\n",
    "        }\n",
    "        else{\n",
    "            return binRep.slice(32-8);\n",
    "        } \n",
    "    })\n",
    "}\n",
    "\n",
    "var screen1 = [0b00000000, 0b00000000, 0b00000000, 0b00000000, 0b00000000, 0b0000000];\n",
    "var width = 16;\n",
    "console.log(drawLineSoln(screen1, width, 5, 10, 2));"
   ]
  },
  {
   "cell_type": "code",
   "execution_count": null,
   "metadata": {},
   "outputs": [],
   "source": []
  }
 ],
 "metadata": {
  "kernelspec": {
   "display_name": "Javascript (Node.js)",
   "language": "javascript",
   "name": "javascript"
  },
  "language_info": {
   "codemirror_mode": {
    "name": "ipython",
    "version": 3
   },
   "file_extension": ".py",
   "mimetype": "text/x-python",
   "name": "python",
   "nbconvert_exporter": "python",
   "pygments_lexer": "ipython3",
   "version": "3.6.5"
  }
 },
 "nbformat": 4,
 "nbformat_minor": 2
}
